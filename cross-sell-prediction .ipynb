{
 "cells": [
  {
   "cell_type": "code",
   "execution_count": 1,
   "metadata": {
    "_cell_guid": "b1076dfc-b9ad-4769-8c92-a6c4dae69d19",
    "_uuid": "8f2839f25d086af736a60e9eeb907d3b93b6e0e5",
    "execution": {
     "iopub.execute_input": "2020-09-19T16:33:57.416796Z",
     "iopub.status.busy": "2020-09-19T16:33:57.415954Z",
     "iopub.status.idle": "2020-09-19T16:33:58.902664Z",
     "shell.execute_reply": "2020-09-19T16:33:58.902148Z"
    },
    "papermill": {
     "duration": 1.519144,
     "end_time": "2020-09-19T16:33:58.902790",
     "exception": false,
     "start_time": "2020-09-19T16:33:57.383646",
     "status": "completed"
    },
    "tags": []
   },
   "outputs": [],
   "source": [
    "import numpy as np\n",
    "import pandas as pd\n",
    "import math\n",
    "import matplotlib.pyplot as plt\n",
    "import seaborn as sns\n",
    "from imblearn.over_sampling import RandomOverSampler\n",
    "\n",
    "from sklearn.preprocessing import LabelEncoder, StandardScaler, MinMaxScaler, RobustScaler\n",
    "sns.set(style='whitegrid')"
   ]
  },
  {
   "cell_type": "code",
   "execution_count": 2,
   "metadata": {
    "_cell_guid": "79c7e3d0-c299-4dcb-8224-4455121ee9b0",
    "_uuid": "d629ff2d2480ee46fbb7e2d37f6b5fab8052498a",
    "execution": {
     "iopub.execute_input": "2020-09-19T16:33:58.954771Z",
     "iopub.status.busy": "2020-09-19T16:33:58.954103Z",
     "iopub.status.idle": "2020-09-19T16:33:59.480322Z",
     "shell.execute_reply": "2020-09-19T16:33:59.479753Z"
    },
    "papermill": {
     "duration": 0.553029,
     "end_time": "2020-09-19T16:33:59.480437",
     "exception": false,
     "start_time": "2020-09-19T16:33:58.927408",
     "status": "completed"
    },
    "tags": []
   },
   "outputs": [],
   "source": [
    "train = pd.read_csv('/kaggle/input/health-insurance-cross-sell-prediction/train.csv')\n",
    "test = pd.read_csv('/kaggle/input/health-insurance-cross-sell-prediction/test.csv')\n",
    "submission = pd.read_csv('/kaggle/input/health-insurance-cross-sell-prediction/sample_submission.csv')"
   ]
  },
  {
   "cell_type": "markdown",
   "metadata": {
    "papermill": {
     "duration": 0.028727,
     "end_time": "2020-09-19T16:33:59.535129",
     "exception": false,
     "start_time": "2020-09-19T16:33:59.506402",
     "status": "completed"
    },
    "tags": []
   },
   "source": [
    "**id -** Unique ID for the customer \n",
    "\n",
    "**Gender -** Gender of the customer - Binary Variable\n",
    "\n",
    "**Age -** Age of the customer - \n",
    "\n",
    "**Driving_License -**\t0 : Customer does not have DL, 1 : Customer already has DL - Categorical Variable\n",
    "\n",
    "**Region_Code -**\tUnique code for the region of the customer - Nominal Variable\n",
    "\n",
    "**Previously_Insured -**\t1 : Customer already has Vehicle Insurance, 0 : Customer doesn't have Vehicle Insurance - Categorical Variable\n",
    "\n",
    "**Vehicle_Age -**\tAge of the Vehicle - Ordinal Variable\n",
    "\n",
    "**Vehicle_Damage -**\n",
    "1 : Customer got his/her vehicle damaged in the past.\n",
    "0 : Customer didn't get his/her vehicle damaged in the past.\n",
    "\n",
    "**Annual_Premium -**\tThe amount customer needs to pay as premium in the year\n",
    "\n",
    "**Policy_Sales_Channel -**\tAnonymised Code for the channel of outreaching to the customer ie. Different Agents, Over Mail, Over Phone, In Person, etc.\n",
    "\n",
    "**Vintage -**\tNumber of Days, Customer has been associated with the company\n",
    "\n",
    "**Response -**\t1 :  Customer is interested, 0 : Customer is not interested\n"
   ]
  },
  {
   "cell_type": "code",
   "execution_count": 3,
   "metadata": {
    "execution": {
     "iopub.execute_input": "2020-09-19T16:33:59.601746Z",
     "iopub.status.busy": "2020-09-19T16:33:59.600075Z",
     "iopub.status.idle": "2020-09-19T16:33:59.611441Z",
     "shell.execute_reply": "2020-09-19T16:33:59.611893Z"
    },
    "papermill": {
     "duration": 0.0526,
     "end_time": "2020-09-19T16:33:59.612037",
     "exception": false,
     "start_time": "2020-09-19T16:33:59.559437",
     "status": "completed"
    },
    "tags": []
   },
   "outputs": [
    {
     "data": {
      "text/html": [
       "<div>\n",
       "<style scoped>\n",
       "    .dataframe tbody tr th:only-of-type {\n",
       "        vertical-align: middle;\n",
       "    }\n",
       "\n",
       "    .dataframe tbody tr th {\n",
       "        vertical-align: top;\n",
       "    }\n",
       "\n",
       "    .dataframe thead th {\n",
       "        text-align: right;\n",
       "    }\n",
       "</style>\n",
       "<table border=\"1\" class=\"dataframe\">\n",
       "  <thead>\n",
       "    <tr style=\"text-align: right;\">\n",
       "      <th></th>\n",
       "      <th>id</th>\n",
       "      <th>Gender</th>\n",
       "      <th>Age</th>\n",
       "      <th>Driving_License</th>\n",
       "      <th>Region_Code</th>\n",
       "      <th>Previously_Insured</th>\n",
       "      <th>Vehicle_Age</th>\n",
       "      <th>Vehicle_Damage</th>\n",
       "      <th>Annual_Premium</th>\n",
       "      <th>Policy_Sales_Channel</th>\n",
       "      <th>Vintage</th>\n",
       "      <th>Response</th>\n",
       "    </tr>\n",
       "  </thead>\n",
       "  <tbody>\n",
       "    <tr>\n",
       "      <th>0</th>\n",
       "      <td>1</td>\n",
       "      <td>Male</td>\n",
       "      <td>44</td>\n",
       "      <td>1</td>\n",
       "      <td>28.0</td>\n",
       "      <td>0</td>\n",
       "      <td>&gt; 2 Years</td>\n",
       "      <td>Yes</td>\n",
       "      <td>40454.0</td>\n",
       "      <td>26.0</td>\n",
       "      <td>217</td>\n",
       "      <td>1</td>\n",
       "    </tr>\n",
       "    <tr>\n",
       "      <th>1</th>\n",
       "      <td>2</td>\n",
       "      <td>Male</td>\n",
       "      <td>76</td>\n",
       "      <td>1</td>\n",
       "      <td>3.0</td>\n",
       "      <td>0</td>\n",
       "      <td>1-2 Year</td>\n",
       "      <td>No</td>\n",
       "      <td>33536.0</td>\n",
       "      <td>26.0</td>\n",
       "      <td>183</td>\n",
       "      <td>0</td>\n",
       "    </tr>\n",
       "    <tr>\n",
       "      <th>2</th>\n",
       "      <td>3</td>\n",
       "      <td>Male</td>\n",
       "      <td>47</td>\n",
       "      <td>1</td>\n",
       "      <td>28.0</td>\n",
       "      <td>0</td>\n",
       "      <td>&gt; 2 Years</td>\n",
       "      <td>Yes</td>\n",
       "      <td>38294.0</td>\n",
       "      <td>26.0</td>\n",
       "      <td>27</td>\n",
       "      <td>1</td>\n",
       "    </tr>\n",
       "    <tr>\n",
       "      <th>3</th>\n",
       "      <td>4</td>\n",
       "      <td>Male</td>\n",
       "      <td>21</td>\n",
       "      <td>1</td>\n",
       "      <td>11.0</td>\n",
       "      <td>1</td>\n",
       "      <td>&lt; 1 Year</td>\n",
       "      <td>No</td>\n",
       "      <td>28619.0</td>\n",
       "      <td>152.0</td>\n",
       "      <td>203</td>\n",
       "      <td>0</td>\n",
       "    </tr>\n",
       "    <tr>\n",
       "      <th>4</th>\n",
       "      <td>5</td>\n",
       "      <td>Female</td>\n",
       "      <td>29</td>\n",
       "      <td>1</td>\n",
       "      <td>41.0</td>\n",
       "      <td>1</td>\n",
       "      <td>&lt; 1 Year</td>\n",
       "      <td>No</td>\n",
       "      <td>27496.0</td>\n",
       "      <td>152.0</td>\n",
       "      <td>39</td>\n",
       "      <td>0</td>\n",
       "    </tr>\n",
       "  </tbody>\n",
       "</table>\n",
       "</div>"
      ],
      "text/plain": [
       "   id  Gender  Age  Driving_License  Region_Code  Previously_Insured  \\\n",
       "0   1    Male   44                1         28.0                   0   \n",
       "1   2    Male   76                1          3.0                   0   \n",
       "2   3    Male   47                1         28.0                   0   \n",
       "3   4    Male   21                1         11.0                   1   \n",
       "4   5  Female   29                1         41.0                   1   \n",
       "\n",
       "  Vehicle_Age Vehicle_Damage  Annual_Premium  Policy_Sales_Channel  Vintage  \\\n",
       "0   > 2 Years            Yes         40454.0                  26.0      217   \n",
       "1    1-2 Year             No         33536.0                  26.0      183   \n",
       "2   > 2 Years            Yes         38294.0                  26.0       27   \n",
       "3    < 1 Year             No         28619.0                 152.0      203   \n",
       "4    < 1 Year             No         27496.0                 152.0       39   \n",
       "\n",
       "   Response  \n",
       "0         1  \n",
       "1         0  \n",
       "2         1  \n",
       "3         0  \n",
       "4         0  "
      ]
     },
     "execution_count": 3,
     "metadata": {},
     "output_type": "execute_result"
    }
   ],
   "source": [
    "train.head()"
   ]
  },
  {
   "cell_type": "code",
   "execution_count": 4,
   "metadata": {
    "execution": {
     "iopub.execute_input": "2020-09-19T16:33:59.664567Z",
     "iopub.status.busy": "2020-09-19T16:33:59.664049Z",
     "iopub.status.idle": "2020-09-19T16:33:59.726292Z",
     "shell.execute_reply": "2020-09-19T16:33:59.726707Z"
    },
    "papermill": {
     "duration": 0.089583,
     "end_time": "2020-09-19T16:33:59.726855",
     "exception": false,
     "start_time": "2020-09-19T16:33:59.637272",
     "status": "completed"
    },
    "tags": []
   },
   "outputs": [
    {
     "data": {
      "text/plain": [
       "id                      0\n",
       "Gender                  0\n",
       "Age                     0\n",
       "Driving_License         0\n",
       "Region_Code             0\n",
       "Previously_Insured      0\n",
       "Vehicle_Age             0\n",
       "Vehicle_Damage          0\n",
       "Annual_Premium          0\n",
       "Policy_Sales_Channel    0\n",
       "Vintage                 0\n",
       "Response                0\n",
       "dtype: int64"
      ]
     },
     "execution_count": 4,
     "metadata": {},
     "output_type": "execute_result"
    }
   ],
   "source": [
    "train.isnull().sum()"
   ]
  },
  {
   "cell_type": "code",
   "execution_count": 5,
   "metadata": {
    "execution": {
     "iopub.execute_input": "2020-09-19T16:33:59.784509Z",
     "iopub.status.busy": "2020-09-19T16:33:59.783586Z",
     "iopub.status.idle": "2020-09-19T16:33:59.794720Z",
     "shell.execute_reply": "2020-09-19T16:33:59.795158Z"
    },
    "papermill": {
     "duration": 0.043055,
     "end_time": "2020-09-19T16:33:59.795315",
     "exception": false,
     "start_time": "2020-09-19T16:33:59.752260",
     "status": "completed"
    },
    "tags": []
   },
   "outputs": [
    {
     "data": {
      "text/plain": [
       "0    334399\n",
       "1     46710\n",
       "Name: Response, dtype: int64"
      ]
     },
     "execution_count": 5,
     "metadata": {},
     "output_type": "execute_result"
    }
   ],
   "source": [
    "train['Response'].value_counts()"
   ]
  },
  {
   "cell_type": "code",
   "execution_count": 6,
   "metadata": {
    "execution": {
     "iopub.execute_input": "2020-09-19T16:33:59.852444Z",
     "iopub.status.busy": "2020-09-19T16:33:59.851501Z",
     "iopub.status.idle": "2020-09-19T16:34:00.035741Z",
     "shell.execute_reply": "2020-09-19T16:34:00.035247Z"
    },
    "papermill": {
     "duration": 0.213411,
     "end_time": "2020-09-19T16:34:00.035843",
     "exception": false,
     "start_time": "2020-09-19T16:33:59.822432",
     "status": "completed"
    },
    "tags": []
   },
   "outputs": [
    {
     "data": {
      "text/plain": [
       "<matplotlib.axes._subplots.AxesSubplot at 0x7f0941a03c50>"
      ]
     },
     "execution_count": 6,
     "metadata": {},
     "output_type": "execute_result"
    },
    {
     "data": {
      "image/png": "[encoded data removed]",
      "text/plain": [
       "<Figure size 432x288 with 1 Axes>"
      ]
     },
     "metadata": {},
     "output_type": "display_data"
    }
   ],
   "source": [
    "sns.countplot(train.Response)"
   ]
  },
  {
   "cell_type": "markdown",
   "metadata": {
    "papermill": {
     "duration": 0.025636,
     "end_time": "2020-09-19T16:34:00.088613",
     "exception": false,
     "start_time": "2020-09-19T16:34:00.062977",
     "status": "completed"
    },
    "tags": []
   },
   "source": [
    "This is a Imbalaced Classification Problem. We try to apply some of the Oversampling techniques like **SMOTE** to make the data balanced. Before doing so lets try to do some Feature labelling."
   ]
  },
  {
   "cell_type": "code",
   "execution_count": 7,
   "metadata": {
    "execution": {
     "iopub.execute_input": "2020-09-19T16:34:00.143752Z",
     "iopub.status.busy": "2020-09-19T16:34:00.143095Z",
     "iopub.status.idle": "2020-09-19T16:34:00.673329Z",
     "shell.execute_reply": "2020-09-19T16:34:00.672523Z"
    },
    "papermill": {
     "duration": 0.558914,
     "end_time": "2020-09-19T16:34:00.673440",
     "exception": false,
     "start_time": "2020-09-19T16:34:00.114526",
     "status": "completed"
    },
    "tags": []
   },
   "outputs": [],
   "source": [
    "#converting Text Object to int type\n",
    "train['Vehicle_Age']=train['Vehicle_Age'].replace({'< 1 Year':0,'1-2 Year':1,'> 2 Years':2})\n",
    "train['Gender']=train['Gender'].replace({'Male':1,'Female':0})\n",
    "train['Vehicle_Damage']=train['Vehicle_Damage'].replace({'Yes':1,'No':0})\n",
    "test['Vehicle_Age']=test['Vehicle_Age'].replace({'< 1 Year':0,'1-2 Year':1,'> 2 Years':2})\n",
    "test['Gender']=test['Gender'].replace({'Male':1,'Female':0})\n",
    "test['Vehicle_Damage']=test['Vehicle_Damage'].replace({'Yes':1,'No':0})"
   ]
  },
  {
   "cell_type": "code",
   "execution_count": 8,
   "metadata": {
    "execution": {
     "iopub.execute_input": "2020-09-19T16:34:00.739248Z",
     "iopub.status.busy": "2020-09-19T16:34:00.738312Z",
     "iopub.status.idle": "2020-09-19T16:34:00.742787Z",
     "shell.execute_reply": "2020-09-19T16:34:00.742328Z"
    },
    "papermill": {
     "duration": 0.043107,
     "end_time": "2020-09-19T16:34:00.742892",
     "exception": false,
     "start_time": "2020-09-19T16:34:00.699785",
     "status": "completed"
    },
    "tags": []
   },
   "outputs": [
    {
     "data": {
      "text/html": [
       "<div>\n",
       "<style scoped>\n",
       "    .dataframe tbody tr th:only-of-type {\n",
       "        vertical-align: middle;\n",
       "    }\n",
       "\n",
       "    .dataframe tbody tr th {\n",
       "        vertical-align: top;\n",
       "    }\n",
       "\n",
       "    .dataframe thead th {\n",
       "        text-align: right;\n",
       "    }\n",
       "</style>\n",
       "<table border=\"1\" class=\"dataframe\">\n",
       "  <thead>\n",
       "    <tr style=\"text-align: right;\">\n",
       "      <th></th>\n",
       "      <th>id</th>\n",
       "      <th>Gender</th>\n",
       "      <th>Age</th>\n",
       "      <th>Driving_License</th>\n",
       "      <th>Region_Code</th>\n",
       "      <th>Previously_Insured</th>\n",
       "      <th>Vehicle_Age</th>\n",
       "      <th>Vehicle_Damage</th>\n",
       "      <th>Annual_Premium</th>\n",
       "      <th>Policy_Sales_Channel</th>\n",
       "      <th>Vintage</th>\n",
       "      <th>Response</th>\n",
       "    </tr>\n",
       "  </thead>\n",
       "  <tbody>\n",
       "    <tr>\n",
       "      <th>0</th>\n",
       "      <td>1</td>\n",
       "      <td>1</td>\n",
       "      <td>44</td>\n",
       "      <td>1</td>\n",
       "      <td>28.0</td>\n",
       "      <td>0</td>\n",
       "      <td>2</td>\n",
       "      <td>1</td>\n",
       "      <td>40454.0</td>\n",
       "      <td>26.0</td>\n",
       "      <td>217</td>\n",
       "      <td>1</td>\n",
       "    </tr>\n",
       "    <tr>\n",
       "      <th>1</th>\n",
       "      <td>2</td>\n",
       "      <td>1</td>\n",
       "      <td>76</td>\n",
       "      <td>1</td>\n",
       "      <td>3.0</td>\n",
       "      <td>0</td>\n",
       "      <td>1</td>\n",
       "      <td>0</td>\n",
       "      <td>33536.0</td>\n",
       "      <td>26.0</td>\n",
       "      <td>183</td>\n",
       "      <td>0</td>\n",
       "    </tr>\n",
       "    <tr>\n",
       "      <th>2</th>\n",
       "      <td>3</td>\n",
       "      <td>1</td>\n",
       "      <td>47</td>\n",
       "      <td>1</td>\n",
       "      <td>28.0</td>\n",
       "      <td>0</td>\n",
       "      <td>2</td>\n",
       "      <td>1</td>\n",
       "      <td>38294.0</td>\n",
       "      <td>26.0</td>\n",
       "      <td>27</td>\n",
       "      <td>1</td>\n",
       "    </tr>\n",
       "    <tr>\n",
       "      <th>3</th>\n",
       "      <td>4</td>\n",
       "      <td>1</td>\n",
       "      <td>21</td>\n",
       "      <td>1</td>\n",
       "      <td>11.0</td>\n",
       "      <td>1</td>\n",
       "      <td>0</td>\n",
       "      <td>0</td>\n",
       "      <td>28619.0</td>\n",
       "      <td>152.0</td>\n",
       "      <td>203</td>\n",
       "      <td>0</td>\n",
       "    </tr>\n",
       "    <tr>\n",
       "      <th>4</th>\n",
       "      <td>5</td>\n",
       "      <td>0</td>\n",
       "      <td>29</td>\n",
       "      <td>1</td>\n",
       "      <td>41.0</td>\n",
       "      <td>1</td>\n",
       "      <td>0</td>\n",
       "      <td>0</td>\n",
       "      <td>27496.0</td>\n",
       "      <td>152.0</td>\n",
       "      <td>39</td>\n",
       "      <td>0</td>\n",
       "    </tr>\n",
       "  </tbody>\n",
       "</table>\n",
       "</div>"
      ],
      "text/plain": [
       "   id  Gender  Age  Driving_License  Region_Code  Previously_Insured  \\\n",
       "0   1       1   44                1         28.0                   0   \n",
       "1   2       1   76                1          3.0                   0   \n",
       "2   3       1   47                1         28.0                   0   \n",
       "3   4       1   21                1         11.0                   1   \n",
       "4   5       0   29                1         41.0                   1   \n",
       "\n",
       "   Vehicle_Age  Vehicle_Damage  Annual_Premium  Policy_Sales_Channel  Vintage  \\\n",
       "0            2               1         40454.0                  26.0      217   \n",
       "1            1               0         33536.0                  26.0      183   \n",
       "2            2               1         38294.0                  26.0       27   \n",
       "3            0               0         28619.0                 152.0      203   \n",
       "4            0               0         27496.0                 152.0       39   \n",
       "\n",
       "   Response  \n",
       "0         1  \n",
       "1         0  \n",
       "2         1  \n",
       "3         0  \n",
       "4         0  "
      ]
     },
     "execution_count": 8,
     "metadata": {},
     "output_type": "execute_result"
    }
   ],
   "source": [
    "train.head()"
   ]
  },
  {
   "cell_type": "code",
   "execution_count": 9,
   "metadata": {
    "execution": {
     "iopub.execute_input": "2020-09-19T16:34:00.799962Z",
     "iopub.status.busy": "2020-09-19T16:34:00.799324Z",
     "iopub.status.idle": "2020-09-19T16:34:00.810720Z",
     "shell.execute_reply": "2020-09-19T16:34:00.811143Z"
    },
    "papermill": {
     "duration": 0.041104,
     "end_time": "2020-09-19T16:34:00.811283",
     "exception": false,
     "start_time": "2020-09-19T16:34:00.770179",
     "status": "completed"
    },
    "tags": []
   },
   "outputs": [
    {
     "data": {
      "text/html": [
       "<div>\n",
       "<style scoped>\n",
       "    .dataframe tbody tr th:only-of-type {\n",
       "        vertical-align: middle;\n",
       "    }\n",
       "\n",
       "    .dataframe tbody tr th {\n",
       "        vertical-align: top;\n",
       "    }\n",
       "\n",
       "    .dataframe thead th {\n",
       "        text-align: right;\n",
       "    }\n",
       "</style>\n",
       "<table border=\"1\" class=\"dataframe\">\n",
       "  <thead>\n",
       "    <tr style=\"text-align: right;\">\n",
       "      <th></th>\n",
       "      <th>id</th>\n",
       "      <th>Gender</th>\n",
       "      <th>Age</th>\n",
       "      <th>Driving_License</th>\n",
       "      <th>Region_Code</th>\n",
       "      <th>Previously_Insured</th>\n",
       "      <th>Vehicle_Age</th>\n",
       "      <th>Vehicle_Damage</th>\n",
       "      <th>Annual_Premium</th>\n",
       "      <th>Policy_Sales_Channel</th>\n",
       "      <th>Vintage</th>\n",
       "    </tr>\n",
       "  </thead>\n",
       "  <tbody>\n",
       "    <tr>\n",
       "      <th>0</th>\n",
       "      <td>381110</td>\n",
       "      <td>1</td>\n",
       "      <td>25</td>\n",
       "      <td>1</td>\n",
       "      <td>11.0</td>\n",
       "      <td>1</td>\n",
       "      <td>0</td>\n",
       "      <td>0</td>\n",
       "      <td>35786.0</td>\n",
       "      <td>152.0</td>\n",
       "      <td>53</td>\n",
       "    </tr>\n",
       "    <tr>\n",
       "      <th>1</th>\n",
       "      <td>381111</td>\n",
       "      <td>1</td>\n",
       "      <td>40</td>\n",
       "      <td>1</td>\n",
       "      <td>28.0</td>\n",
       "      <td>0</td>\n",
       "      <td>1</td>\n",
       "      <td>1</td>\n",
       "      <td>33762.0</td>\n",
       "      <td>7.0</td>\n",
       "      <td>111</td>\n",
       "    </tr>\n",
       "    <tr>\n",
       "      <th>2</th>\n",
       "      <td>381112</td>\n",
       "      <td>1</td>\n",
       "      <td>47</td>\n",
       "      <td>1</td>\n",
       "      <td>28.0</td>\n",
       "      <td>0</td>\n",
       "      <td>1</td>\n",
       "      <td>1</td>\n",
       "      <td>40050.0</td>\n",
       "      <td>124.0</td>\n",
       "      <td>199</td>\n",
       "    </tr>\n",
       "    <tr>\n",
       "      <th>3</th>\n",
       "      <td>381113</td>\n",
       "      <td>1</td>\n",
       "      <td>24</td>\n",
       "      <td>1</td>\n",
       "      <td>27.0</td>\n",
       "      <td>1</td>\n",
       "      <td>0</td>\n",
       "      <td>1</td>\n",
       "      <td>37356.0</td>\n",
       "      <td>152.0</td>\n",
       "      <td>187</td>\n",
       "    </tr>\n",
       "    <tr>\n",
       "      <th>4</th>\n",
       "      <td>381114</td>\n",
       "      <td>1</td>\n",
       "      <td>27</td>\n",
       "      <td>1</td>\n",
       "      <td>28.0</td>\n",
       "      <td>1</td>\n",
       "      <td>0</td>\n",
       "      <td>0</td>\n",
       "      <td>59097.0</td>\n",
       "      <td>152.0</td>\n",
       "      <td>297</td>\n",
       "    </tr>\n",
       "  </tbody>\n",
       "</table>\n",
       "</div>"
      ],
      "text/plain": [
       "       id  Gender  Age  Driving_License  Region_Code  Previously_Insured  \\\n",
       "0  381110       1   25                1         11.0                   1   \n",
       "1  381111       1   40                1         28.0                   0   \n",
       "2  381112       1   47                1         28.0                   0   \n",
       "3  381113       1   24                1         27.0                   1   \n",
       "4  381114       1   27                1         28.0                   1   \n",
       "\n",
       "   Vehicle_Age  Vehicle_Damage  Annual_Premium  Policy_Sales_Channel  Vintage  \n",
       "0            0               0         35786.0                 152.0       53  \n",
       "1            1               1         33762.0                   7.0      111  \n",
       "2            1               1         40050.0                 124.0      199  \n",
       "3            0               1         37356.0                 152.0      187  \n",
       "4            0               0         59097.0                 152.0      297  "
      ]
     },
     "execution_count": 9,
     "metadata": {},
     "output_type": "execute_result"
    }
   ],
   "source": [
    "test.head()"
   ]
  },
  {
   "cell_type": "code",
   "execution_count": 10,
   "metadata": {
    "execution": {
     "iopub.execute_input": "2020-09-19T16:34:00.869311Z",
     "iopub.status.busy": "2020-09-19T16:34:00.868657Z",
     "iopub.status.idle": "2020-09-19T16:34:00.922797Z",
     "shell.execute_reply": "2020-09-19T16:34:00.922318Z"
    },
    "papermill": {
     "duration": 0.084177,
     "end_time": "2020-09-19T16:34:00.922921",
     "exception": false,
     "start_time": "2020-09-19T16:34:00.838744",
     "status": "completed"
    },
    "tags": []
   },
   "outputs": [],
   "source": [
    "x_train = train.drop(['id', 'Response'], axis = 1)\n",
    "y_train = train['Response']\n",
    "test = test.drop(['id'], axis = 1)"
   ]
  },
  {
   "cell_type": "markdown",
   "metadata": {
    "papermill": {
     "duration": 0.027069,
     "end_time": "2020-09-19T16:34:00.977877",
     "exception": false,
     "start_time": "2020-09-19T16:34:00.950808",
     "status": "completed"
    },
    "tags": []
   },
   "source": [
    "## Correlation"
   ]
  },
  {
   "cell_type": "code",
   "execution_count": 11,
   "metadata": {
    "execution": {
     "iopub.execute_input": "2020-09-19T16:34:01.038528Z",
     "iopub.status.busy": "2020-09-19T16:34:01.037360Z",
     "iopub.status.idle": "2020-09-19T16:34:01.831267Z",
     "shell.execute_reply": "2020-09-19T16:34:01.831699Z"
    },
    "papermill": {
     "duration": 0.826694,
     "end_time": "2020-09-19T16:34:01.831825",
     "exception": false,
     "start_time": "2020-09-19T16:34:01.005131",
     "status": "completed"
    },
    "tags": []
   },
   "outputs": [
    {
     "data": {
      "text/plain": [
       "<matplotlib.axes._subplots.AxesSubplot at 0x7f09567d1750>"
      ]
     },
     "execution_count": 11,
     "metadata": {},
     "output_type": "execute_result"
    },
    {
     "data": {
      "image/png": "[encoded data removed]",
      "text/plain": [
       "<Figure size 936x936 with 2 Axes>"
      ]
     },
     "metadata": {},
     "output_type": "display_data"
    }
   ],
   "source": [
    "corrmat = x_train.corr()\n",
    "fig, ax = plt.subplots()\n",
    "fig.set_size_inches(13,13)\n",
    "sns.heatmap(corrmat, annot = True)"
   ]
  },
  {
   "cell_type": "markdown",
   "metadata": {
    "papermill": {
     "duration": 0.030983,
     "end_time": "2020-09-19T16:34:01.893055",
     "exception": false,
     "start_time": "2020-09-19T16:34:01.862072",
     "status": "completed"
    },
    "tags": []
   },
   "source": [
    "Here we can observe a strong negative correlation between **Previously Insured** and **Vehicle Damage**."
   ]
  },
  {
   "cell_type": "markdown",
   "metadata": {
    "papermill": {
     "duration": 0.029869,
     "end_time": "2020-09-19T16:34:01.954507",
     "exception": false,
     "start_time": "2020-09-19T16:34:01.924638",
     "status": "completed"
    },
    "tags": []
   },
   "source": [
    "## Mutual Information Test"
   ]
  },
  {
   "cell_type": "code",
   "execution_count": 12,
   "metadata": {
    "execution": {
     "iopub.execute_input": "2020-09-19T16:34:02.020044Z",
     "iopub.status.busy": "2020-09-19T16:34:02.019398Z",
     "iopub.status.idle": "2020-09-19T16:34:02.034649Z",
     "shell.execute_reply": "2020-09-19T16:34:02.033973Z"
    },
    "papermill": {
     "duration": 0.049482,
     "end_time": "2020-09-19T16:34:02.034764",
     "exception": false,
     "start_time": "2020-09-19T16:34:01.985282",
     "status": "completed"
    },
    "tags": []
   },
   "outputs": [],
   "source": [
    "from sklearn.feature_selection import mutual_info_classif, mutual_info_regression\n",
    "from sklearn.feature_selection import SelectKBest, SelectPercentile"
   ]
  },
  {
   "cell_type": "code",
   "execution_count": 13,
   "metadata": {
    "execution": {
     "iopub.execute_input": "2020-09-19T16:34:02.100516Z",
     "iopub.status.busy": "2020-09-19T16:34:02.099897Z",
     "iopub.status.idle": "2020-09-19T16:35:00.688337Z",
     "shell.execute_reply": "2020-09-19T16:35:00.688798Z"
    },
    "papermill": {
     "duration": 58.623476,
     "end_time": "2020-09-19T16:35:00.688941",
     "exception": false,
     "start_time": "2020-09-19T16:34:02.065465",
     "status": "completed"
    },
    "tags": []
   },
   "outputs": [
    {
     "data": {
      "text/plain": [
       "array([0.02208971, 0.03169885, 0.07371124, 0.01511248, 0.09847148,\n",
       "       0.04529712, 0.09446039, 0.0037019 , 0.05811521, 0.00054339])"
      ]
     },
     "execution_count": 13,
     "metadata": {},
     "output_type": "execute_result"
    }
   ],
   "source": [
    "mi = mutual_info_classif(x_train.fillna(0), y_train)\n",
    "mi"
   ]
  },
  {
   "cell_type": "code",
   "execution_count": 14,
   "metadata": {
    "execution": {
     "iopub.execute_input": "2020-09-19T16:35:00.759023Z",
     "iopub.status.busy": "2020-09-19T16:35:00.758142Z",
     "iopub.status.idle": "2020-09-19T16:35:00.761646Z",
     "shell.execute_reply": "2020-09-19T16:35:00.761234Z"
    },
    "papermill": {
     "duration": 0.0418,
     "end_time": "2020-09-19T16:35:00.761745",
     "exception": false,
     "start_time": "2020-09-19T16:35:00.719945",
     "status": "completed"
    },
    "tags": []
   },
   "outputs": [
    {
     "data": {
      "text/plain": [
       "Previously_Insured      0.098471\n",
       "Vehicle_Damage          0.094460\n",
       "Driving_License         0.073711\n",
       "Policy_Sales_Channel    0.058115\n",
       "Vehicle_Age             0.045297\n",
       "Age                     0.031699\n",
       "Gender                  0.022090\n",
       "Region_Code             0.015112\n",
       "Annual_Premium          0.003702\n",
       "Vintage                 0.000543\n",
       "dtype: float64"
      ]
     },
     "execution_count": 14,
     "metadata": {},
     "output_type": "execute_result"
    }
   ],
   "source": [
    "# let's add the variable names and order the features\n",
    "# according to the MI for clearer visualisation\n",
    "mi = pd.Series(mi)\n",
    "mi.index = x_train.columns\n",
    "mi.sort_values(ascending=False)"
   ]
  },
  {
   "cell_type": "code",
   "execution_count": 15,
   "metadata": {
    "execution": {
     "iopub.execute_input": "2020-09-19T16:35:00.829314Z",
     "iopub.status.busy": "2020-09-19T16:35:00.828714Z",
     "iopub.status.idle": "2020-09-19T16:35:01.044050Z",
     "shell.execute_reply": "2020-09-19T16:35:01.043434Z"
    },
    "papermill": {
     "duration": 0.25137,
     "end_time": "2020-09-19T16:35:01.044155",
     "exception": false,
     "start_time": "2020-09-19T16:35:00.792785",
     "status": "completed"
    },
    "tags": []
   },
   "outputs": [
    {
     "data": {
      "text/plain": [
       "<matplotlib.axes._subplots.AxesSubplot at 0x7f093e514f50>"
      ]
     },
     "execution_count": 15,
     "metadata": {},
     "output_type": "execute_result"
    },
    {
     "data": {
      "image/png": "[encoded data removed]",
      "text/plain": [
       "<Figure size 1080x576 with 1 Axes>"
      ]
     },
     "metadata": {},
     "output_type": "display_data"
    }
   ],
   "source": [
    "# and now let's plot the ordered MI values per feature\n",
    "mi.sort_values(ascending=False).plot.bar(figsize=(15, 8))"
   ]
  },
  {
   "cell_type": "markdown",
   "metadata": {
    "papermill": {
     "duration": 0.032484,
     "end_time": "2020-09-19T16:35:01.108648",
     "exception": false,
     "start_time": "2020-09-19T16:35:01.076164",
     "status": "completed"
    },
    "tags": []
   },
   "source": [
    "**Vintage** Lets try to understand more about Vintage column and why it there is not much relation between the Target variable and Vintage."
   ]
  },
  {
   "cell_type": "code",
   "execution_count": 16,
   "metadata": {
    "execution": {
     "iopub.execute_input": "2020-09-19T16:35:01.179063Z",
     "iopub.status.busy": "2020-09-19T16:35:01.178437Z",
     "iopub.status.idle": "2020-09-19T16:35:01.203830Z",
     "shell.execute_reply": "2020-09-19T16:35:01.204296Z"
    },
    "papermill": {
     "duration": 0.063657,
     "end_time": "2020-09-19T16:35:01.204445",
     "exception": false,
     "start_time": "2020-09-19T16:35:01.140788",
     "status": "completed"
    },
    "tags": []
   },
   "outputs": [],
   "source": [
    "x_train['Vintage_m'] = x_train['Vintage']/30.25\n",
    "test['Vintage_m'] = test['Vintage']/30.25"
   ]
  },
  {
   "cell_type": "code",
   "execution_count": 17,
   "metadata": {
    "execution": {
     "iopub.execute_input": "2020-09-19T16:35:01.275173Z",
     "iopub.status.busy": "2020-09-19T16:35:01.274539Z",
     "iopub.status.idle": "2020-09-19T16:35:01.291085Z",
     "shell.execute_reply": "2020-09-19T16:35:01.290604Z"
    },
    "papermill": {
     "duration": 0.054108,
     "end_time": "2020-09-19T16:35:01.291197",
     "exception": false,
     "start_time": "2020-09-19T16:35:01.237089",
     "status": "completed"
    },
    "tags": []
   },
   "outputs": [],
   "source": [
    "x_train = x_train.apply(np.ceil)\n",
    "test = test.apply(np.ceil)"
   ]
  },
  {
   "cell_type": "code",
   "execution_count": 18,
   "metadata": {
    "execution": {
     "iopub.execute_input": "2020-09-19T16:35:01.370573Z",
     "iopub.status.busy": "2020-09-19T16:35:01.369588Z",
     "iopub.status.idle": "2020-09-19T16:35:01.380276Z",
     "shell.execute_reply": "2020-09-19T16:35:01.379789Z"
    },
    "papermill": {
     "duration": 0.055784,
     "end_time": "2020-09-19T16:35:01.380388",
     "exception": false,
     "start_time": "2020-09-19T16:35:01.324604",
     "status": "completed"
    },
    "tags": []
   },
   "outputs": [
    {
     "data": {
      "text/html": [
       "<div>\n",
       "<style scoped>\n",
       "    .dataframe tbody tr th:only-of-type {\n",
       "        vertical-align: middle;\n",
       "    }\n",
       "\n",
       "    .dataframe tbody tr th {\n",
       "        vertical-align: top;\n",
       "    }\n",
       "\n",
       "    .dataframe thead th {\n",
       "        text-align: right;\n",
       "    }\n",
       "</style>\n",
       "<table border=\"1\" class=\"dataframe\">\n",
       "  <thead>\n",
       "    <tr style=\"text-align: right;\">\n",
       "      <th></th>\n",
       "      <th>Gender</th>\n",
       "      <th>Age</th>\n",
       "      <th>Driving_License</th>\n",
       "      <th>Region_Code</th>\n",
       "      <th>Previously_Insured</th>\n",
       "      <th>Vehicle_Age</th>\n",
       "      <th>Vehicle_Damage</th>\n",
       "      <th>Annual_Premium</th>\n",
       "      <th>Policy_Sales_Channel</th>\n",
       "      <th>Vintage</th>\n",
       "      <th>Vintage_m</th>\n",
       "    </tr>\n",
       "  </thead>\n",
       "  <tbody>\n",
       "    <tr>\n",
       "      <th>0</th>\n",
       "      <td>1.0</td>\n",
       "      <td>44.0</td>\n",
       "      <td>1.0</td>\n",
       "      <td>28.0</td>\n",
       "      <td>0.0</td>\n",
       "      <td>2.0</td>\n",
       "      <td>1.0</td>\n",
       "      <td>40454.0</td>\n",
       "      <td>26.0</td>\n",
       "      <td>217.0</td>\n",
       "      <td>8.0</td>\n",
       "    </tr>\n",
       "    <tr>\n",
       "      <th>1</th>\n",
       "      <td>1.0</td>\n",
       "      <td>76.0</td>\n",
       "      <td>1.0</td>\n",
       "      <td>3.0</td>\n",
       "      <td>0.0</td>\n",
       "      <td>1.0</td>\n",
       "      <td>0.0</td>\n",
       "      <td>33536.0</td>\n",
       "      <td>26.0</td>\n",
       "      <td>183.0</td>\n",
       "      <td>7.0</td>\n",
       "    </tr>\n",
       "    <tr>\n",
       "      <th>2</th>\n",
       "      <td>1.0</td>\n",
       "      <td>47.0</td>\n",
       "      <td>1.0</td>\n",
       "      <td>28.0</td>\n",
       "      <td>0.0</td>\n",
       "      <td>2.0</td>\n",
       "      <td>1.0</td>\n",
       "      <td>38294.0</td>\n",
       "      <td>26.0</td>\n",
       "      <td>27.0</td>\n",
       "      <td>1.0</td>\n",
       "    </tr>\n",
       "    <tr>\n",
       "      <th>3</th>\n",
       "      <td>1.0</td>\n",
       "      <td>21.0</td>\n",
       "      <td>1.0</td>\n",
       "      <td>11.0</td>\n",
       "      <td>1.0</td>\n",
       "      <td>0.0</td>\n",
       "      <td>0.0</td>\n",
       "      <td>28619.0</td>\n",
       "      <td>152.0</td>\n",
       "      <td>203.0</td>\n",
       "      <td>7.0</td>\n",
       "    </tr>\n",
       "    <tr>\n",
       "      <th>4</th>\n",
       "      <td>0.0</td>\n",
       "      <td>29.0</td>\n",
       "      <td>1.0</td>\n",
       "      <td>41.0</td>\n",
       "      <td>1.0</td>\n",
       "      <td>0.0</td>\n",
       "      <td>0.0</td>\n",
       "      <td>27496.0</td>\n",
       "      <td>152.0</td>\n",
       "      <td>39.0</td>\n",
       "      <td>2.0</td>\n",
       "    </tr>\n",
       "  </tbody>\n",
       "</table>\n",
       "</div>"
      ],
      "text/plain": [
       "   Gender   Age  Driving_License  Region_Code  Previously_Insured  \\\n",
       "0     1.0  44.0              1.0         28.0                 0.0   \n",
       "1     1.0  76.0              1.0          3.0                 0.0   \n",
       "2     1.0  47.0              1.0         28.0                 0.0   \n",
       "3     1.0  21.0              1.0         11.0                 1.0   \n",
       "4     0.0  29.0              1.0         41.0                 1.0   \n",
       "\n",
       "   Vehicle_Age  Vehicle_Damage  Annual_Premium  Policy_Sales_Channel  Vintage  \\\n",
       "0          2.0             1.0         40454.0                  26.0    217.0   \n",
       "1          1.0             0.0         33536.0                  26.0    183.0   \n",
       "2          2.0             1.0         38294.0                  26.0     27.0   \n",
       "3          0.0             0.0         28619.0                 152.0    203.0   \n",
       "4          0.0             0.0         27496.0                 152.0     39.0   \n",
       "\n",
       "   Vintage_m  \n",
       "0        8.0  \n",
       "1        7.0  \n",
       "2        1.0  \n",
       "3        7.0  \n",
       "4        2.0  "
      ]
     },
     "execution_count": 18,
     "metadata": {},
     "output_type": "execute_result"
    }
   ],
   "source": [
    "x_train.head()"
   ]
  },
  {
   "cell_type": "code",
   "execution_count": 19,
   "metadata": {
    "execution": {
     "iopub.execute_input": "2020-09-19T16:35:01.452685Z",
     "iopub.status.busy": "2020-09-19T16:35:01.451490Z",
     "iopub.status.idle": "2020-09-19T16:36:06.124521Z",
     "shell.execute_reply": "2020-09-19T16:36:06.124952Z"
    },
    "papermill": {
     "duration": 64.711163,
     "end_time": "2020-09-19T16:36:06.125109",
     "exception": false,
     "start_time": "2020-09-19T16:35:01.413946",
     "status": "completed"
    },
    "tags": []
   },
   "outputs": [
    {
     "data": {
      "text/plain": [
       "array([0.02282651, 0.03211   , 0.07505322, 0.01435522, 0.09949908,\n",
       "       0.04451955, 0.09385121, 0.0036806 , 0.06018328, 0.00012133,\n",
       "       0.0078264 ])"
      ]
     },
     "execution_count": 19,
     "metadata": {},
     "output_type": "execute_result"
    }
   ],
   "source": [
    "mi = mutual_info_classif(x_train.fillna(0), y_train)\n",
    "mi"
   ]
  },
  {
   "cell_type": "code",
   "execution_count": 20,
   "metadata": {
    "execution": {
     "iopub.execute_input": "2020-09-19T16:36:06.201343Z",
     "iopub.status.busy": "2020-09-19T16:36:06.200692Z",
     "iopub.status.idle": "2020-09-19T16:36:06.207564Z",
     "shell.execute_reply": "2020-09-19T16:36:06.208081Z"
    },
    "papermill": {
     "duration": 0.043626,
     "end_time": "2020-09-19T16:36:06.208210",
     "exception": false,
     "start_time": "2020-09-19T16:36:06.164584",
     "status": "completed"
    },
    "tags": []
   },
   "outputs": [
    {
     "data": {
      "text/plain": [
       "Previously_Insured      0.099499\n",
       "Vehicle_Damage          0.093851\n",
       "Driving_License         0.075053\n",
       "Policy_Sales_Channel    0.060183\n",
       "Vehicle_Age             0.044520\n",
       "Age                     0.032110\n",
       "Gender                  0.022827\n",
       "Region_Code             0.014355\n",
       "Vintage_m               0.007826\n",
       "Annual_Premium          0.003681\n",
       "Vintage                 0.000121\n",
       "dtype: float64"
      ]
     },
     "execution_count": 20,
     "metadata": {},
     "output_type": "execute_result"
    }
   ],
   "source": [
    "# let's add the variable names and order the features\n",
    "# according to the MI for clearer visualisation\n",
    "mi = pd.Series(mi)\n",
    "mi.index = x_train.columns\n",
    "mi.sort_values(ascending=False)"
   ]
  },
  {
   "cell_type": "code",
   "execution_count": 21,
   "metadata": {
    "execution": {
     "iopub.execute_input": "2020-09-19T16:36:06.278726Z",
     "iopub.status.busy": "2020-09-19T16:36:06.278194Z",
     "iopub.status.idle": "2020-09-19T16:36:06.482456Z",
     "shell.execute_reply": "2020-09-19T16:36:06.482867Z"
    },
    "papermill": {
     "duration": 0.240876,
     "end_time": "2020-09-19T16:36:06.483037",
     "exception": false,
     "start_time": "2020-09-19T16:36:06.242161",
     "status": "completed"
    },
    "tags": []
   },
   "outputs": [
    {
     "data": {
      "text/plain": [
       "<matplotlib.axes._subplots.AxesSubplot at 0x7f093e436f90>"
      ]
     },
     "execution_count": 21,
     "metadata": {},
     "output_type": "execute_result"
    },
    {
     "data": {
      "image/png": "[encoded data removed]",
      "text/plain": [
       "<Figure size 1080x576 with 1 Axes>"
      ]
     },
     "metadata": {},
     "output_type": "display_data"
    }
   ],
   "source": [
    "# and now let's plot the ordered MI values per feature\n",
    "mi.sort_values(ascending=False).plot.bar(figsize=(15, 8))"
   ]
  },
  {
   "cell_type": "markdown",
   "metadata": {
    "papermill": {
     "duration": 0.034783,
     "end_time": "2020-09-19T16:36:06.553551",
     "exception": false,
     "start_time": "2020-09-19T16:36:06.518768",
     "status": "completed"
    },
    "tags": []
   },
   "source": [
    "As we observe converting the Vintage from days into Month is helping us to get good relationship between the Vintage and Target Variable."
   ]
  },
  {
   "cell_type": "code",
   "execution_count": 22,
   "metadata": {
    "execution": {
     "iopub.execute_input": "2020-09-19T16:36:06.627080Z",
     "iopub.status.busy": "2020-09-19T16:36:06.626430Z",
     "iopub.status.idle": "2020-09-19T16:36:06.664129Z",
     "shell.execute_reply": "2020-09-19T16:36:06.664626Z"
    },
    "papermill": {
     "duration": 0.075925,
     "end_time": "2020-09-19T16:36:06.664764",
     "exception": false,
     "start_time": "2020-09-19T16:36:06.588839",
     "status": "completed"
    },
    "tags": []
   },
   "outputs": [],
   "source": [
    "x_train_2 = x_train.drop(['Vintage'], axis = True)\n",
    "test_2 = test.drop(['Vintage'], axis = True)"
   ]
  },
  {
   "cell_type": "code",
   "execution_count": 23,
   "metadata": {
    "execution": {
     "iopub.execute_input": "2020-09-19T16:36:06.739157Z",
     "iopub.status.busy": "2020-09-19T16:36:06.738523Z",
     "iopub.status.idle": "2020-09-19T16:36:06.752978Z",
     "shell.execute_reply": "2020-09-19T16:36:06.753458Z"
    },
    "papermill": {
     "duration": 0.053442,
     "end_time": "2020-09-19T16:36:06.753589",
     "exception": false,
     "start_time": "2020-09-19T16:36:06.700147",
     "status": "completed"
    },
    "tags": []
   },
   "outputs": [
    {
     "data": {
      "text/html": [
       "<div>\n",
       "<style scoped>\n",
       "    .dataframe tbody tr th:only-of-type {\n",
       "        vertical-align: middle;\n",
       "    }\n",
       "\n",
       "    .dataframe tbody tr th {\n",
       "        vertical-align: top;\n",
       "    }\n",
       "\n",
       "    .dataframe thead th {\n",
       "        text-align: right;\n",
       "    }\n",
       "</style>\n",
       "<table border=\"1\" class=\"dataframe\">\n",
       "  <thead>\n",
       "    <tr style=\"text-align: right;\">\n",
       "      <th></th>\n",
       "      <th>Gender</th>\n",
       "      <th>Age</th>\n",
       "      <th>Driving_License</th>\n",
       "      <th>Region_Code</th>\n",
       "      <th>Previously_Insured</th>\n",
       "      <th>Vehicle_Age</th>\n",
       "      <th>Vehicle_Damage</th>\n",
       "      <th>Annual_Premium</th>\n",
       "      <th>Policy_Sales_Channel</th>\n",
       "      <th>Vintage_m</th>\n",
       "    </tr>\n",
       "  </thead>\n",
       "  <tbody>\n",
       "    <tr>\n",
       "      <th>0</th>\n",
       "      <td>1.0</td>\n",
       "      <td>44.0</td>\n",
       "      <td>1.0</td>\n",
       "      <td>28.0</td>\n",
       "      <td>0.0</td>\n",
       "      <td>2.0</td>\n",
       "      <td>1.0</td>\n",
       "      <td>40454.0</td>\n",
       "      <td>26.0</td>\n",
       "      <td>8.0</td>\n",
       "    </tr>\n",
       "    <tr>\n",
       "      <th>1</th>\n",
       "      <td>1.0</td>\n",
       "      <td>76.0</td>\n",
       "      <td>1.0</td>\n",
       "      <td>3.0</td>\n",
       "      <td>0.0</td>\n",
       "      <td>1.0</td>\n",
       "      <td>0.0</td>\n",
       "      <td>33536.0</td>\n",
       "      <td>26.0</td>\n",
       "      <td>7.0</td>\n",
       "    </tr>\n",
       "    <tr>\n",
       "      <th>2</th>\n",
       "      <td>1.0</td>\n",
       "      <td>47.0</td>\n",
       "      <td>1.0</td>\n",
       "      <td>28.0</td>\n",
       "      <td>0.0</td>\n",
       "      <td>2.0</td>\n",
       "      <td>1.0</td>\n",
       "      <td>38294.0</td>\n",
       "      <td>26.0</td>\n",
       "      <td>1.0</td>\n",
       "    </tr>\n",
       "    <tr>\n",
       "      <th>3</th>\n",
       "      <td>1.0</td>\n",
       "      <td>21.0</td>\n",
       "      <td>1.0</td>\n",
       "      <td>11.0</td>\n",
       "      <td>1.0</td>\n",
       "      <td>0.0</td>\n",
       "      <td>0.0</td>\n",
       "      <td>28619.0</td>\n",
       "      <td>152.0</td>\n",
       "      <td>7.0</td>\n",
       "    </tr>\n",
       "    <tr>\n",
       "      <th>4</th>\n",
       "      <td>0.0</td>\n",
       "      <td>29.0</td>\n",
       "      <td>1.0</td>\n",
       "      <td>41.0</td>\n",
       "      <td>1.0</td>\n",
       "      <td>0.0</td>\n",
       "      <td>0.0</td>\n",
       "      <td>27496.0</td>\n",
       "      <td>152.0</td>\n",
       "      <td>2.0</td>\n",
       "    </tr>\n",
       "  </tbody>\n",
       "</table>\n",
       "</div>"
      ],
      "text/plain": [
       "   Gender   Age  Driving_License  Region_Code  Previously_Insured  \\\n",
       "0     1.0  44.0              1.0         28.0                 0.0   \n",
       "1     1.0  76.0              1.0          3.0                 0.0   \n",
       "2     1.0  47.0              1.0         28.0                 0.0   \n",
       "3     1.0  21.0              1.0         11.0                 1.0   \n",
       "4     0.0  29.0              1.0         41.0                 1.0   \n",
       "\n",
       "   Vehicle_Age  Vehicle_Damage  Annual_Premium  Policy_Sales_Channel  \\\n",
       "0          2.0             1.0         40454.0                  26.0   \n",
       "1          1.0             0.0         33536.0                  26.0   \n",
       "2          2.0             1.0         38294.0                  26.0   \n",
       "3          0.0             0.0         28619.0                 152.0   \n",
       "4          0.0             0.0         27496.0                 152.0   \n",
       "\n",
       "   Vintage_m  \n",
       "0        8.0  \n",
       "1        7.0  \n",
       "2        1.0  \n",
       "3        7.0  \n",
       "4        2.0  "
      ]
     },
     "execution_count": 23,
     "metadata": {},
     "output_type": "execute_result"
    }
   ],
   "source": [
    "x_train_2.head()"
   ]
  },
  {
   "cell_type": "code",
   "execution_count": 24,
   "metadata": {
    "execution": {
     "iopub.execute_input": "2020-09-19T16:36:06.828638Z",
     "iopub.status.busy": "2020-09-19T16:36:06.828064Z",
     "iopub.status.idle": "2020-09-19T16:36:06.849725Z",
     "shell.execute_reply": "2020-09-19T16:36:06.850204Z"
    },
    "papermill": {
     "duration": 0.06031,
     "end_time": "2020-09-19T16:36:06.850341",
     "exception": false,
     "start_time": "2020-09-19T16:36:06.790031",
     "status": "completed"
    },
    "tags": []
   },
   "outputs": [],
   "source": [
    "x_train_2 = x_train_2.astype(int)\n",
    "test_2 = test_2.astype(int)"
   ]
  },
  {
   "cell_type": "code",
   "execution_count": 25,
   "metadata": {
    "execution": {
     "iopub.execute_input": "2020-09-19T16:36:06.924877Z",
     "iopub.status.busy": "2020-09-19T16:36:06.924330Z",
     "iopub.status.idle": "2020-09-19T16:36:06.936035Z",
     "shell.execute_reply": "2020-09-19T16:36:06.935562Z"
    },
    "papermill": {
     "duration": 0.049891,
     "end_time": "2020-09-19T16:36:06.936151",
     "exception": false,
     "start_time": "2020-09-19T16:36:06.886260",
     "status": "completed"
    },
    "tags": []
   },
   "outputs": [
    {
     "data": {
      "text/html": [
       "<div>\n",
       "<style scoped>\n",
       "    .dataframe tbody tr th:only-of-type {\n",
       "        vertical-align: middle;\n",
       "    }\n",
       "\n",
       "    .dataframe tbody tr th {\n",
       "        vertical-align: top;\n",
       "    }\n",
       "\n",
       "    .dataframe thead th {\n",
       "        text-align: right;\n",
       "    }\n",
       "</style>\n",
       "<table border=\"1\" class=\"dataframe\">\n",
       "  <thead>\n",
       "    <tr style=\"text-align: right;\">\n",
       "      <th></th>\n",
       "      <th>Gender</th>\n",
       "      <th>Age</th>\n",
       "      <th>Driving_License</th>\n",
       "      <th>Region_Code</th>\n",
       "      <th>Previously_Insured</th>\n",
       "      <th>Vehicle_Age</th>\n",
       "      <th>Vehicle_Damage</th>\n",
       "      <th>Annual_Premium</th>\n",
       "      <th>Policy_Sales_Channel</th>\n",
       "      <th>Vintage_m</th>\n",
       "    </tr>\n",
       "  </thead>\n",
       "  <tbody>\n",
       "    <tr>\n",
       "      <th>0</th>\n",
       "      <td>1</td>\n",
       "      <td>44</td>\n",
       "      <td>1</td>\n",
       "      <td>28</td>\n",
       "      <td>0</td>\n",
       "      <td>2</td>\n",
       "      <td>1</td>\n",
       "      <td>40454</td>\n",
       "      <td>26</td>\n",
       "      <td>8</td>\n",
       "    </tr>\n",
       "    <tr>\n",
       "      <th>1</th>\n",
       "      <td>1</td>\n",
       "      <td>76</td>\n",
       "      <td>1</td>\n",
       "      <td>3</td>\n",
       "      <td>0</td>\n",
       "      <td>1</td>\n",
       "      <td>0</td>\n",
       "      <td>33536</td>\n",
       "      <td>26</td>\n",
       "      <td>7</td>\n",
       "    </tr>\n",
       "    <tr>\n",
       "      <th>2</th>\n",
       "      <td>1</td>\n",
       "      <td>47</td>\n",
       "      <td>1</td>\n",
       "      <td>28</td>\n",
       "      <td>0</td>\n",
       "      <td>2</td>\n",
       "      <td>1</td>\n",
       "      <td>38294</td>\n",
       "      <td>26</td>\n",
       "      <td>1</td>\n",
       "    </tr>\n",
       "    <tr>\n",
       "      <th>3</th>\n",
       "      <td>1</td>\n",
       "      <td>21</td>\n",
       "      <td>1</td>\n",
       "      <td>11</td>\n",
       "      <td>1</td>\n",
       "      <td>0</td>\n",
       "      <td>0</td>\n",
       "      <td>28619</td>\n",
       "      <td>152</td>\n",
       "      <td>7</td>\n",
       "    </tr>\n",
       "    <tr>\n",
       "      <th>4</th>\n",
       "      <td>0</td>\n",
       "      <td>29</td>\n",
       "      <td>1</td>\n",
       "      <td>41</td>\n",
       "      <td>1</td>\n",
       "      <td>0</td>\n",
       "      <td>0</td>\n",
       "      <td>27496</td>\n",
       "      <td>152</td>\n",
       "      <td>2</td>\n",
       "    </tr>\n",
       "  </tbody>\n",
       "</table>\n",
       "</div>"
      ],
      "text/plain": [
       "   Gender  Age  Driving_License  Region_Code  Previously_Insured  Vehicle_Age  \\\n",
       "0       1   44                1           28                   0            2   \n",
       "1       1   76                1            3                   0            1   \n",
       "2       1   47                1           28                   0            2   \n",
       "3       1   21                1           11                   1            0   \n",
       "4       0   29                1           41                   1            0   \n",
       "\n",
       "   Vehicle_Damage  Annual_Premium  Policy_Sales_Channel  Vintage_m  \n",
       "0               1           40454                    26          8  \n",
       "1               0           33536                    26          7  \n",
       "2               1           38294                    26          1  \n",
       "3               0           28619                   152          7  \n",
       "4               0           27496                   152          2  "
      ]
     },
     "execution_count": 25,
     "metadata": {},
     "output_type": "execute_result"
    }
   ],
   "source": [
    "x_train_2.head()"
   ]
  },
  {
   "cell_type": "code",
   "execution_count": 26,
   "metadata": {
    "execution": {
     "iopub.execute_input": "2020-09-19T16:36:07.019365Z",
     "iopub.status.busy": "2020-09-19T16:36:07.015519Z",
     "iopub.status.idle": "2020-09-19T16:36:07.023926Z",
     "shell.execute_reply": "2020-09-19T16:36:07.023359Z"
    },
    "papermill": {
     "duration": 0.051399,
     "end_time": "2020-09-19T16:36:07.024050",
     "exception": false,
     "start_time": "2020-09-19T16:36:06.972651",
     "status": "completed"
    },
    "tags": []
   },
   "outputs": [
    {
     "data": {
      "text/html": [
       "<div>\n",
       "<style scoped>\n",
       "    .dataframe tbody tr th:only-of-type {\n",
       "        vertical-align: middle;\n",
       "    }\n",
       "\n",
       "    .dataframe tbody tr th {\n",
       "        vertical-align: top;\n",
       "    }\n",
       "\n",
       "    .dataframe thead th {\n",
       "        text-align: right;\n",
       "    }\n",
       "</style>\n",
       "<table border=\"1\" class=\"dataframe\">\n",
       "  <thead>\n",
       "    <tr style=\"text-align: right;\">\n",
       "      <th></th>\n",
       "      <th>Gender</th>\n",
       "      <th>Age</th>\n",
       "      <th>Driving_License</th>\n",
       "      <th>Region_Code</th>\n",
       "      <th>Previously_Insured</th>\n",
       "      <th>Vehicle_Age</th>\n",
       "      <th>Vehicle_Damage</th>\n",
       "      <th>Annual_Premium</th>\n",
       "      <th>Policy_Sales_Channel</th>\n",
       "      <th>Vintage_m</th>\n",
       "    </tr>\n",
       "  </thead>\n",
       "  <tbody>\n",
       "    <tr>\n",
       "      <th>0</th>\n",
       "      <td>1</td>\n",
       "      <td>25</td>\n",
       "      <td>1</td>\n",
       "      <td>11</td>\n",
       "      <td>1</td>\n",
       "      <td>0</td>\n",
       "      <td>0</td>\n",
       "      <td>35786</td>\n",
       "      <td>152</td>\n",
       "      <td>2</td>\n",
       "    </tr>\n",
       "    <tr>\n",
       "      <th>1</th>\n",
       "      <td>1</td>\n",
       "      <td>40</td>\n",
       "      <td>1</td>\n",
       "      <td>28</td>\n",
       "      <td>0</td>\n",
       "      <td>1</td>\n",
       "      <td>1</td>\n",
       "      <td>33762</td>\n",
       "      <td>7</td>\n",
       "      <td>4</td>\n",
       "    </tr>\n",
       "    <tr>\n",
       "      <th>2</th>\n",
       "      <td>1</td>\n",
       "      <td>47</td>\n",
       "      <td>1</td>\n",
       "      <td>28</td>\n",
       "      <td>0</td>\n",
       "      <td>1</td>\n",
       "      <td>1</td>\n",
       "      <td>40050</td>\n",
       "      <td>124</td>\n",
       "      <td>7</td>\n",
       "    </tr>\n",
       "    <tr>\n",
       "      <th>3</th>\n",
       "      <td>1</td>\n",
       "      <td>24</td>\n",
       "      <td>1</td>\n",
       "      <td>27</td>\n",
       "      <td>1</td>\n",
       "      <td>0</td>\n",
       "      <td>1</td>\n",
       "      <td>37356</td>\n",
       "      <td>152</td>\n",
       "      <td>7</td>\n",
       "    </tr>\n",
       "    <tr>\n",
       "      <th>4</th>\n",
       "      <td>1</td>\n",
       "      <td>27</td>\n",
       "      <td>1</td>\n",
       "      <td>28</td>\n",
       "      <td>1</td>\n",
       "      <td>0</td>\n",
       "      <td>0</td>\n",
       "      <td>59097</td>\n",
       "      <td>152</td>\n",
       "      <td>10</td>\n",
       "    </tr>\n",
       "  </tbody>\n",
       "</table>\n",
       "</div>"
      ],
      "text/plain": [
       "   Gender  Age  Driving_License  Region_Code  Previously_Insured  Vehicle_Age  \\\n",
       "0       1   25                1           11                   1            0   \n",
       "1       1   40                1           28                   0            1   \n",
       "2       1   47                1           28                   0            1   \n",
       "3       1   24                1           27                   1            0   \n",
       "4       1   27                1           28                   1            0   \n",
       "\n",
       "   Vehicle_Damage  Annual_Premium  Policy_Sales_Channel  Vintage_m  \n",
       "0               0           35786                   152          2  \n",
       "1               1           33762                     7          4  \n",
       "2               1           40050                   124          7  \n",
       "3               1           37356                   152          7  \n",
       "4               0           59097                   152         10  "
      ]
     },
     "execution_count": 26,
     "metadata": {},
     "output_type": "execute_result"
    }
   ],
   "source": [
    "test_2.head()"
   ]
  },
  {
   "cell_type": "code",
   "execution_count": 27,
   "metadata": {
    "execution": {
     "iopub.execute_input": "2020-09-19T16:36:07.102538Z",
     "iopub.status.busy": "2020-09-19T16:36:07.101839Z",
     "iopub.status.idle": "2020-09-19T16:36:07.104574Z",
     "shell.execute_reply": "2020-09-19T16:36:07.104137Z"
    },
    "papermill": {
     "duration": 0.043837,
     "end_time": "2020-09-19T16:36:07.104675",
     "exception": false,
     "start_time": "2020-09-19T16:36:07.060838",
     "status": "completed"
    },
    "tags": []
   },
   "outputs": [],
   "source": [
    "# categorical column \n",
    "cat_col=['Gender', 'Vintage_m', 'Driving_License', 'Region_Code', 'Previously_Insured', 'Vehicle_Age', 'Vehicle_Damage','Policy_Sales_Channel']"
   ]
  },
  {
   "cell_type": "code",
   "execution_count": 28,
   "metadata": {
    "execution": {
     "iopub.execute_input": "2020-09-19T16:36:07.183680Z",
     "iopub.status.busy": "2020-09-19T16:36:07.183100Z",
     "iopub.status.idle": "2020-09-19T16:36:07.189784Z",
     "shell.execute_reply": "2020-09-19T16:36:07.189217Z"
    },
    "papermill": {
     "duration": 0.047587,
     "end_time": "2020-09-19T16:36:07.189888",
     "exception": false,
     "start_time": "2020-09-19T16:36:07.142301",
     "status": "completed"
    },
    "tags": []
   },
   "outputs": [],
   "source": [
    "x_train_2['type'] = 'train'\n",
    "test_2['type'] = 'test'"
   ]
  },
  {
   "cell_type": "code",
   "execution_count": 29,
   "metadata": {
    "execution": {
     "iopub.execute_input": "2020-09-19T16:36:07.268848Z",
     "iopub.status.busy": "2020-09-19T16:36:07.268284Z",
     "iopub.status.idle": "2020-09-19T16:36:07.292785Z",
     "shell.execute_reply": "2020-09-19T16:36:07.292100Z"
    },
    "papermill": {
     "duration": 0.06562,
     "end_time": "2020-09-19T16:36:07.292909",
     "exception": false,
     "start_time": "2020-09-19T16:36:07.227289",
     "status": "completed"
    },
    "tags": []
   },
   "outputs": [],
   "source": [
    "all_data = pd.concat([x_train_2, test_2])"
   ]
  },
  {
   "cell_type": "code",
   "execution_count": 30,
   "metadata": {
    "execution": {
     "iopub.execute_input": "2020-09-19T16:36:07.379868Z",
     "iopub.status.busy": "2020-09-19T16:36:07.379014Z",
     "iopub.status.idle": "2020-09-19T16:36:07.383293Z",
     "shell.execute_reply": "2020-09-19T16:36:07.383681Z"
    },
    "papermill": {
     "duration": 0.053109,
     "end_time": "2020-09-19T16:36:07.383818",
     "exception": false,
     "start_time": "2020-09-19T16:36:07.330709",
     "status": "completed"
    },
    "tags": []
   },
   "outputs": [
    {
     "data": {
      "text/html": [
       "<div>\n",
       "<style scoped>\n",
       "    .dataframe tbody tr th:only-of-type {\n",
       "        vertical-align: middle;\n",
       "    }\n",
       "\n",
       "    .dataframe tbody tr th {\n",
       "        vertical-align: top;\n",
       "    }\n",
       "\n",
       "    .dataframe thead th {\n",
       "        text-align: right;\n",
       "    }\n",
       "</style>\n",
       "<table border=\"1\" class=\"dataframe\">\n",
       "  <thead>\n",
       "    <tr style=\"text-align: right;\">\n",
       "      <th></th>\n",
       "      <th>Gender</th>\n",
       "      <th>Age</th>\n",
       "      <th>Driving_License</th>\n",
       "      <th>Region_Code</th>\n",
       "      <th>Previously_Insured</th>\n",
       "      <th>Vehicle_Age</th>\n",
       "      <th>Vehicle_Damage</th>\n",
       "      <th>Annual_Premium</th>\n",
       "      <th>Policy_Sales_Channel</th>\n",
       "      <th>Vintage_m</th>\n",
       "      <th>type</th>\n",
       "    </tr>\n",
       "  </thead>\n",
       "  <tbody>\n",
       "    <tr>\n",
       "      <th>0</th>\n",
       "      <td>1</td>\n",
       "      <td>44</td>\n",
       "      <td>1</td>\n",
       "      <td>28</td>\n",
       "      <td>0</td>\n",
       "      <td>2</td>\n",
       "      <td>1</td>\n",
       "      <td>40454</td>\n",
       "      <td>26</td>\n",
       "      <td>8</td>\n",
       "      <td>train</td>\n",
       "    </tr>\n",
       "    <tr>\n",
       "      <th>1</th>\n",
       "      <td>1</td>\n",
       "      <td>76</td>\n",
       "      <td>1</td>\n",
       "      <td>3</td>\n",
       "      <td>0</td>\n",
       "      <td>1</td>\n",
       "      <td>0</td>\n",
       "      <td>33536</td>\n",
       "      <td>26</td>\n",
       "      <td>7</td>\n",
       "      <td>train</td>\n",
       "    </tr>\n",
       "    <tr>\n",
       "      <th>2</th>\n",
       "      <td>1</td>\n",
       "      <td>47</td>\n",
       "      <td>1</td>\n",
       "      <td>28</td>\n",
       "      <td>0</td>\n",
       "      <td>2</td>\n",
       "      <td>1</td>\n",
       "      <td>38294</td>\n",
       "      <td>26</td>\n",
       "      <td>1</td>\n",
       "      <td>train</td>\n",
       "    </tr>\n",
       "    <tr>\n",
       "      <th>3</th>\n",
       "      <td>1</td>\n",
       "      <td>21</td>\n",
       "      <td>1</td>\n",
       "      <td>11</td>\n",
       "      <td>1</td>\n",
       "      <td>0</td>\n",
       "      <td>0</td>\n",
       "      <td>28619</td>\n",
       "      <td>152</td>\n",
       "      <td>7</td>\n",
       "      <td>train</td>\n",
       "    </tr>\n",
       "    <tr>\n",
       "      <th>4</th>\n",
       "      <td>0</td>\n",
       "      <td>29</td>\n",
       "      <td>1</td>\n",
       "      <td>41</td>\n",
       "      <td>1</td>\n",
       "      <td>0</td>\n",
       "      <td>0</td>\n",
       "      <td>27496</td>\n",
       "      <td>152</td>\n",
       "      <td>2</td>\n",
       "      <td>train</td>\n",
       "    </tr>\n",
       "  </tbody>\n",
       "</table>\n",
       "</div>"
      ],
      "text/plain": [
       "   Gender  Age  Driving_License  Region_Code  Previously_Insured  Vehicle_Age  \\\n",
       "0       1   44                1           28                   0            2   \n",
       "1       1   76                1            3                   0            1   \n",
       "2       1   47                1           28                   0            2   \n",
       "3       1   21                1           11                   1            0   \n",
       "4       0   29                1           41                   1            0   \n",
       "\n",
       "   Vehicle_Damage  Annual_Premium  Policy_Sales_Channel  Vintage_m   type  \n",
       "0               1           40454                    26          8  train  \n",
       "1               0           33536                    26          7  train  \n",
       "2               1           38294                    26          1  train  \n",
       "3               0           28619                   152          7  train  \n",
       "4               0           27496                   152          2  train  "
      ]
     },
     "execution_count": 30,
     "metadata": {},
     "output_type": "execute_result"
    }
   ],
   "source": [
    "all_data.head()"
   ]
  },
  {
   "cell_type": "code",
   "execution_count": 31,
   "metadata": {
    "execution": {
     "iopub.execute_input": "2020-09-19T16:36:07.466753Z",
     "iopub.status.busy": "2020-09-19T16:36:07.466158Z",
     "iopub.status.idle": "2020-09-19T16:36:07.662881Z",
     "shell.execute_reply": "2020-09-19T16:36:07.663480Z"
    },
    "papermill": {
     "duration": 0.241572,
     "end_time": "2020-09-19T16:36:07.663640",
     "exception": false,
     "start_time": "2020-09-19T16:36:07.422068",
     "status": "completed"
    },
    "tags": []
   },
   "outputs": [
    {
     "data": {
      "text/html": [
       "<div>\n",
       "<style scoped>\n",
       "    .dataframe tbody tr th:only-of-type {\n",
       "        vertical-align: middle;\n",
       "    }\n",
       "\n",
       "    .dataframe tbody tr th {\n",
       "        vertical-align: top;\n",
       "    }\n",
       "\n",
       "    .dataframe thead th {\n",
       "        text-align: right;\n",
       "    }\n",
       "</style>\n",
       "<table border=\"1\" class=\"dataframe\">\n",
       "  <thead>\n",
       "    <tr style=\"text-align: right;\">\n",
       "      <th></th>\n",
       "      <th>Gender</th>\n",
       "      <th>Age</th>\n",
       "      <th>Driving_License</th>\n",
       "      <th>Region_Code</th>\n",
       "      <th>Previously_Insured</th>\n",
       "      <th>Vehicle_Age</th>\n",
       "      <th>Vehicle_Damage</th>\n",
       "      <th>Annual_Premium</th>\n",
       "      <th>Policy_Sales_Channel</th>\n",
       "      <th>Vintage_m</th>\n",
       "      <th>type</th>\n",
       "    </tr>\n",
       "  </thead>\n",
       "  <tbody>\n",
       "    <tr>\n",
       "      <th>0</th>\n",
       "      <td>1</td>\n",
       "      <td>0.369231</td>\n",
       "      <td>1</td>\n",
       "      <td>28</td>\n",
       "      <td>0</td>\n",
       "      <td>2</td>\n",
       "      <td>1</td>\n",
       "      <td>0.070366</td>\n",
       "      <td>26</td>\n",
       "      <td>8</td>\n",
       "      <td>train</td>\n",
       "    </tr>\n",
       "    <tr>\n",
       "      <th>1</th>\n",
       "      <td>1</td>\n",
       "      <td>0.861538</td>\n",
       "      <td>1</td>\n",
       "      <td>3</td>\n",
       "      <td>0</td>\n",
       "      <td>1</td>\n",
       "      <td>0</td>\n",
       "      <td>0.057496</td>\n",
       "      <td>26</td>\n",
       "      <td>7</td>\n",
       "      <td>train</td>\n",
       "    </tr>\n",
       "    <tr>\n",
       "      <th>2</th>\n",
       "      <td>1</td>\n",
       "      <td>0.415385</td>\n",
       "      <td>1</td>\n",
       "      <td>28</td>\n",
       "      <td>0</td>\n",
       "      <td>2</td>\n",
       "      <td>1</td>\n",
       "      <td>0.066347</td>\n",
       "      <td>26</td>\n",
       "      <td>1</td>\n",
       "      <td>train</td>\n",
       "    </tr>\n",
       "    <tr>\n",
       "      <th>3</th>\n",
       "      <td>1</td>\n",
       "      <td>0.015385</td>\n",
       "      <td>1</td>\n",
       "      <td>11</td>\n",
       "      <td>1</td>\n",
       "      <td>0</td>\n",
       "      <td>0</td>\n",
       "      <td>0.048348</td>\n",
       "      <td>152</td>\n",
       "      <td>7</td>\n",
       "      <td>train</td>\n",
       "    </tr>\n",
       "    <tr>\n",
       "      <th>4</th>\n",
       "      <td>0</td>\n",
       "      <td>0.138462</td>\n",
       "      <td>1</td>\n",
       "      <td>41</td>\n",
       "      <td>1</td>\n",
       "      <td>0</td>\n",
       "      <td>0</td>\n",
       "      <td>0.046259</td>\n",
       "      <td>152</td>\n",
       "      <td>2</td>\n",
       "      <td>train</td>\n",
       "    </tr>\n",
       "  </tbody>\n",
       "</table>\n",
       "</div>"
      ],
      "text/plain": [
       "   Gender       Age  Driving_License  Region_Code  Previously_Insured  \\\n",
       "0       1  0.369231                1           28                   0   \n",
       "1       1  0.861538                1            3                   0   \n",
       "2       1  0.415385                1           28                   0   \n",
       "3       1  0.015385                1           11                   1   \n",
       "4       0  0.138462                1           41                   1   \n",
       "\n",
       "   Vehicle_Age  Vehicle_Damage  Annual_Premium  Policy_Sales_Channel  \\\n",
       "0            2               1        0.070366                    26   \n",
       "1            1               0        0.057496                    26   \n",
       "2            2               1        0.066347                    26   \n",
       "3            0               0        0.048348                   152   \n",
       "4            0               0        0.046259                   152   \n",
       "\n",
       "   Vintage_m   type  \n",
       "0          8  train  \n",
       "1          7  train  \n",
       "2          1  train  \n",
       "3          7  train  \n",
       "4          2  train  "
      ]
     },
     "execution_count": 31,
     "metadata": {},
     "output_type": "execute_result"
    }
   ],
   "source": [
    "# Numerical Column\n",
    "numerical_cols = ['Annual_Premium', 'Age']\n",
    "\n",
    "scaler = MinMaxScaler()\n",
    "all_data[numerical_cols] = scaler.fit_transform(all_data[numerical_cols])\n",
    "\n",
    "all_data.head()\n"
   ]
  },
  {
   "cell_type": "code",
   "execution_count": 32,
   "metadata": {
    "execution": {
     "iopub.execute_input": "2020-09-19T16:36:07.743175Z",
     "iopub.status.busy": "2020-09-19T16:36:07.742543Z",
     "iopub.status.idle": "2020-09-19T16:36:07.825290Z",
     "shell.execute_reply": "2020-09-19T16:36:07.825816Z"
    },
    "papermill": {
     "duration": 0.124429,
     "end_time": "2020-09-19T16:36:07.826121",
     "exception": false,
     "start_time": "2020-09-19T16:36:07.701692",
     "status": "completed"
    },
    "tags": []
   },
   "outputs": [],
   "source": [
    "df_train = all_data[all_data['type'] == 'train']\n",
    "df_test = all_data[all_data['type'] == 'test']"
   ]
  },
  {
   "cell_type": "code",
   "execution_count": 33,
   "metadata": {
    "execution": {
     "iopub.execute_input": "2020-09-19T16:36:07.907900Z",
     "iopub.status.busy": "2020-09-19T16:36:07.907339Z",
     "iopub.status.idle": "2020-09-19T16:36:07.929732Z",
     "shell.execute_reply": "2020-09-19T16:36:07.930183Z"
    },
    "papermill": {
     "duration": 0.065935,
     "end_time": "2020-09-19T16:36:07.930333",
     "exception": false,
     "start_time": "2020-09-19T16:36:07.864398",
     "status": "completed"
    },
    "tags": []
   },
   "outputs": [],
   "source": [
    "df_train = df_train.drop(['type'], axis = 1)\n",
    "df_test = df_test.drop(['type'], axis = 1)"
   ]
  },
  {
   "cell_type": "code",
   "execution_count": 34,
   "metadata": {
    "execution": {
     "iopub.execute_input": "2020-09-19T16:36:08.014203Z",
     "iopub.status.busy": "2020-09-19T16:36:08.013569Z",
     "iopub.status.idle": "2020-09-19T16:36:08.213763Z",
     "shell.execute_reply": "2020-09-19T16:36:08.214198Z"
    },
    "papermill": {
     "duration": 0.245001,
     "end_time": "2020-09-19T16:36:08.214354",
     "exception": false,
     "start_time": "2020-09-19T16:36:07.969353",
     "status": "completed"
    },
    "tags": []
   },
   "outputs": [],
   "source": [
    "from sklearn.metrics import roc_auc_score\n",
    "from sklearn.model_selection import train_test_split\n",
    "X_train, X_test, Y_train, Y_test = train_test_split(df_train, y_train, test_size=.25, random_state=42,stratify=y_train,shuffle=True)"
   ]
  },
  {
   "cell_type": "code",
   "execution_count": 35,
   "metadata": {
    "execution": {
     "iopub.execute_input": "2020-09-19T16:36:08.297628Z",
     "iopub.status.busy": "2020-09-19T16:36:08.297042Z",
     "iopub.status.idle": "2020-09-19T16:36:46.752182Z",
     "shell.execute_reply": "2020-09-19T16:36:46.751494Z"
    },
    "papermill": {
     "duration": 38.499275,
     "end_time": "2020-09-19T16:36:46.752311",
     "exception": false,
     "start_time": "2020-09-19T16:36:08.253036",
     "status": "completed"
    },
    "tags": []
   },
   "outputs": [
    {
     "name": "stdout",
     "output_type": "stream",
     "text": [
      "Learning rate set to 0.128106\n",
      "0:\ttest: 0.8348163\tbest: 0.8348163 (0)\ttotal: 271ms\tremaining: 4m 30s\n",
      "Stopped by overfitting detector  (50 iterations wait)\n",
      "\n",
      "bestTest = 0.8592072112\n",
      "bestIteration = 161\n",
      "\n",
      "Shrink model to first 162 iterations.\n"
     ]
    },
    {
     "data": {
      "text/plain": [
       "0.8592072111835038"
      ]
     },
     "execution_count": 35,
     "metadata": {},
     "output_type": "execute_result"
    }
   ],
   "source": [
    "from catboost import CatBoostClassifier\n",
    "from sklearn.metrics import accuracy_score\n",
    "catb = CatBoostClassifier(eval_metric = 'AUC')\n",
    "catb= catb.fit(X_train, Y_train,cat_features=cat_col,eval_set=(X_test, Y_test),early_stopping_rounds=50,verbose=1000)\n",
    "y_cat = catb.predict(X_test)\n",
    "probs_cat_train = catb.predict_proba(X_train)[:, 1]\n",
    "probs_cat_test = catb.predict_proba(X_test)[:, 1]\n",
    "roc_auc_score(Y_train, probs_cat_train)\n",
    "roc_auc_score(Y_test, probs_cat_test)"
   ]
  },
  {
   "cell_type": "code",
   "execution_count": 36,
   "metadata": {
    "execution": {
     "iopub.execute_input": "2020-09-19T16:36:46.864797Z",
     "iopub.status.busy": "2020-09-19T16:36:46.864101Z",
     "iopub.status.idle": "2020-09-19T16:36:46.867402Z",
     "shell.execute_reply": "2020-09-19T16:36:46.866885Z"
    },
    "papermill": {
     "duration": 0.062388,
     "end_time": "2020-09-19T16:36:46.867524",
     "exception": false,
     "start_time": "2020-09-19T16:36:46.805136",
     "status": "completed"
    },
    "tags": []
   },
   "outputs": [],
   "source": [
    "col=['Gender', 'Age', 'Driving_License', 'Region_Code', 'Previously_Insured', 'Vehicle_Age', 'Vehicle_Damage', 'Annual_Premium', 'Policy_Sales_Channel', 'Vintage_m']"
   ]
  },
  {
   "cell_type": "code",
   "execution_count": 37,
   "metadata": {
    "execution": {
     "iopub.execute_input": "2020-09-19T16:36:46.957528Z",
     "iopub.status.busy": "2020-09-19T16:36:46.956898Z",
     "iopub.status.idle": "2020-09-19T16:36:46.978132Z",
     "shell.execute_reply": "2020-09-19T16:36:46.977642Z"
    },
    "papermill": {
     "duration": 0.067932,
     "end_time": "2020-09-19T16:36:46.978246",
     "exception": false,
     "start_time": "2020-09-19T16:36:46.910314",
     "status": "completed"
    },
    "tags": []
   },
   "outputs": [],
   "source": [
    "submmission = pd.read_csv('/kaggle/input/health-insurance-cross-sell-prediction/sample_submission.csv')"
   ]
  },
  {
   "cell_type": "code",
   "execution_count": 38,
   "metadata": {
    "execution": {
     "iopub.execute_input": "2020-09-19T16:36:47.274218Z",
     "iopub.status.busy": "2020-09-19T16:36:47.273519Z",
     "iopub.status.idle": "2020-09-19T16:36:48.050909Z",
     "shell.execute_reply": "2020-09-19T16:36:48.050180Z"
    },
    "papermill": {
     "duration": 1.032888,
     "end_time": "2020-09-19T16:36:48.051054",
     "exception": false,
     "start_time": "2020-09-19T16:36:47.018166",
     "status": "completed"
    },
    "tags": []
   },
   "outputs": [],
   "source": [
    "cat_pred= catb.predict_proba(df_test[col])[:, 1]\n",
    "submmission['Response']=cat_pred\n",
    "submmission.to_csv(\"cat_after_FE.csv\", index = False)"
   ]
  },
  {
   "cell_type": "code",
   "execution_count": 39,
   "metadata": {
    "execution": {
     "iopub.execute_input": "2020-09-19T16:36:48.187495Z",
     "iopub.status.busy": "2020-09-19T16:36:48.186566Z",
     "iopub.status.idle": "2020-09-19T16:36:48.191248Z",
     "shell.execute_reply": "2020-09-19T16:36:48.190800Z"
    },
    "papermill": {
     "duration": 0.053026,
     "end_time": "2020-09-19T16:36:48.191353",
     "exception": false,
     "start_time": "2020-09-19T16:36:48.138327",
     "status": "completed"
    },
    "tags": []
   },
   "outputs": [
    {
     "data": {
      "text/html": [
       "<div>\n",
       "<style scoped>\n",
       "    .dataframe tbody tr th:only-of-type {\n",
       "        vertical-align: middle;\n",
       "    }\n",
       "\n",
       "    .dataframe tbody tr th {\n",
       "        vertical-align: top;\n",
       "    }\n",
       "\n",
       "    .dataframe thead th {\n",
       "        text-align: right;\n",
       "    }\n",
       "</style>\n",
       "<table border=\"1\" class=\"dataframe\">\n",
       "  <thead>\n",
       "    <tr style=\"text-align: right;\">\n",
       "      <th></th>\n",
       "      <th>id</th>\n",
       "      <th>Response</th>\n",
       "    </tr>\n",
       "  </thead>\n",
       "  <tbody>\n",
       "    <tr>\n",
       "      <th>0</th>\n",
       "      <td>381110</td>\n",
       "      <td>0.000336</td>\n",
       "    </tr>\n",
       "    <tr>\n",
       "      <th>1</th>\n",
       "      <td>381111</td>\n",
       "      <td>0.273829</td>\n",
       "    </tr>\n",
       "    <tr>\n",
       "      <th>2</th>\n",
       "      <td>381112</td>\n",
       "      <td>0.283915</td>\n",
       "    </tr>\n",
       "    <tr>\n",
       "      <th>3</th>\n",
       "      <td>381113</td>\n",
       "      <td>0.005519</td>\n",
       "    </tr>\n",
       "    <tr>\n",
       "      <th>4</th>\n",
       "      <td>381114</td>\n",
       "      <td>0.000270</td>\n",
       "    </tr>\n",
       "  </tbody>\n",
       "</table>\n",
       "</div>"
      ],
      "text/plain": [
       "       id  Response\n",
       "0  381110  0.000336\n",
       "1  381111  0.273829\n",
       "2  381112  0.283915\n",
       "3  381113  0.005519\n",
       "4  381114  0.000270"
      ]
     },
     "execution_count": 39,
     "metadata": {},
     "output_type": "execute_result"
    }
   ],
   "source": [
    "submmission.head()"
   ]
  },
  {
   "cell_type": "markdown",
   "metadata": {
    "papermill": {
     "duration": 0.040312,
     "end_time": "2020-09-19T16:36:48.271573",
     "exception": false,
     "start_time": "2020-09-19T16:36:48.231261",
     "status": "completed"
    },
    "tags": []
   },
   "source": [
    "## LIGHT GBM"
   ]
  },
  {
   "cell_type": "code",
   "execution_count": 40,
   "metadata": {
    "execution": {
     "iopub.execute_input": "2020-09-19T16:36:48.367762Z",
     "iopub.status.busy": "2020-09-19T16:36:48.366943Z",
     "iopub.status.idle": "2020-09-19T16:36:48.432756Z",
     "shell.execute_reply": "2020-09-19T16:36:48.432267Z"
    },
    "papermill": {
     "duration": 0.120544,
     "end_time": "2020-09-19T16:36:48.432868",
     "exception": false,
     "start_time": "2020-09-19T16:36:48.312324",
     "status": "completed"
    },
    "tags": []
   },
   "outputs": [],
   "source": [
    "import warnings\n",
    "warnings.filterwarnings(\"ignore\")\n",
    "import lightgbm as lgb\n",
    "from bayes_opt import BayesianOptimization\n",
    "\n",
    "def bayes_parameter_opt_lgb(X_train, Y_train, init_round=15, opt_round=25, n_folds=5, random_seed=6, n_estimators=10000, learning_rate=0.05, output_process=False):\n",
    "    train_data = lgb.Dataset(data=X_train, label=Y_train, categorical_feature = cat_col, free_raw_data=False)\n",
    "    # parameters\n",
    "    def lgb_eval(num_leaves,min_child_samples, feature_fraction, bagging_fraction, max_depth, lambda_l1, lambda_l2, min_split_gain, min_child_weight):\n",
    "        params = {'application':'binary','num_iterations': n_estimators, 'learning_rate':learning_rate, 'early_stopping_round':100, 'metric':'auc'}\n",
    "        params[\"num_leaves\"] = int(round(num_leaves))\n",
    "        params[\"min_child_samples\"] = int(round(min_child_samples))\n",
    "        params['feature_fraction'] = max(min(feature_fraction, 1), 0)\n",
    "        params['bagging_fraction'] = max(min(bagging_fraction, 1), 0)\n",
    "        params['max_depth'] = int(round(max_depth))\n",
    "        params['lambda_l1'] = max(lambda_l1, 0)\n",
    "        params['lambda_l2'] = max(lambda_l2, 0)\n",
    "        params['min_split_gain'] = min_split_gain\n",
    "        params['min_child_weight'] = min_child_weight\n",
    "        cv_result = lgb.cv(params, train_data, nfold=n_folds, seed=random_seed, stratified=True, shuffle=True, verbose_eval =200, metrics=['auc'])\n",
    "        return max(cv_result['auc-mean'])\n",
    "    # range \n",
    "    lgbBO = BayesianOptimization(lgb_eval, {'num_leaves': (24, 45),\n",
    "                                        'min_child_samples': (10,500),\n",
    "                                        'feature_fraction': (0.1, 0.9),\n",
    "                                        'bagging_fraction': (0.5, 1),\n",
    "                                        'max_depth': (5, 9),\n",
    "                                        'lambda_l1': (0, 5),\n",
    "                                        'lambda_l2': (0, 3),\n",
    "                                        'min_split_gain': (0.001, 0.1),                                        \n",
    "                                        'min_child_weight': (5, 50)}, random_state=0)\n",
    "# optimize\n",
    "    lgbBO.maximize(init_points=init_round, n_iter=opt_round)\n",
    "\n",
    "    model_auc=[]\n",
    "    for model in range(len( lgbBO.res)):\n",
    "        model_auc.append(lgbBO.res[model]['target'])\n",
    "\n",
    "    # return best parameters\n",
    "    return lgbBO.res[pd.Series(model_auc).idxmax()]['target'],lgbBO.res[pd.Series(model_auc).idxmax()]['params']\n"
   ]
  },
  {
   "cell_type": "code",
   "execution_count": 41,
   "metadata": {
    "execution": {
     "iopub.execute_input": "2020-09-19T16:36:48.519765Z",
     "iopub.status.busy": "2020-09-19T16:36:48.518380Z",
     "iopub.status.idle": "2020-09-19T16:58:51.164413Z",
     "shell.execute_reply": "2020-09-19T16:58:51.165505Z"
    },
    "papermill": {
     "duration": 1322.692769,
     "end_time": "2020-09-19T16:58:51.165710",
     "exception": false,
     "start_time": "2020-09-19T16:36:48.472941",
     "status": "completed"
    },
    "tags": []
   },
   "outputs": [
    {
     "name": "stdout",
     "output_type": "stream",
     "text": [
      "|   iter    |  target   | baggin... | featur... | lambda_l1 | lambda_l2 | max_depth | min_ch... | min_ch... | min_sp... | num_le... |\n",
      "-------------------------------------------------------------------------------------------------------------------------------------\n",
      "[200]\tcv_agg's auc: 0.857697 + 0.000411386\n",
      "| \u001b[0m 1       \u001b[0m | \u001b[0m 0.8577  \u001b[0m | \u001b[0m 0.7744  \u001b[0m | \u001b[0m 0.6722  \u001b[0m | \u001b[0m 3.014   \u001b[0m | \u001b[0m 1.635   \u001b[0m | \u001b[0m 6.695   \u001b[0m | \u001b[0m 326.5   \u001b[0m | \u001b[0m 24.69   \u001b[0m | \u001b[0m 0.08929 \u001b[0m | \u001b[0m 44.24   \u001b[0m |\n",
      "[200]\tcv_agg's auc: 0.857574 + 0.000300557\n",
      "| \u001b[95m 2       \u001b[0m | \u001b[95m 0.8577  \u001b[0m | \u001b[95m 0.6917  \u001b[0m | \u001b[95m 0.7334  \u001b[0m | \u001b[95m 2.644   \u001b[0m | \u001b[95m 1.704   \u001b[0m | \u001b[95m 8.702   \u001b[0m | \u001b[95m 44.81   \u001b[0m | \u001b[95m 8.921   \u001b[0m | \u001b[95m 0.003002\u001b[0m | \u001b[95m 41.49   \u001b[0m |\n",
      "[200]\tcv_agg's auc: 0.85736 + 0.000250035\n",
      "| \u001b[0m 3       \u001b[0m | \u001b[0m 0.8574  \u001b[0m | \u001b[0m 0.8891  \u001b[0m | \u001b[0m 0.796   \u001b[0m | \u001b[0m 4.893   \u001b[0m | \u001b[0m 2.397   \u001b[0m | \u001b[0m 6.846   \u001b[0m | \u001b[0m 392.5   \u001b[0m | \u001b[0m 10.32   \u001b[0m | \u001b[0m 0.06435 \u001b[0m | \u001b[0m 27.01   \u001b[0m |\n",
      "[200]\tcv_agg's auc: 0.857716 + 0.000336999\n",
      "| \u001b[95m 4       \u001b[0m | \u001b[95m 0.8578  \u001b[0m | \u001b[95m 0.9723  \u001b[0m | \u001b[95m 0.5175  \u001b[0m | \u001b[95m 2.073   \u001b[0m | \u001b[95m 0.7937  \u001b[0m | \u001b[95m 8.097   \u001b[0m | \u001b[95m 233.5   \u001b[0m | \u001b[95m 30.58   \u001b[0m | \u001b[95m 0.00286 \u001b[0m | \u001b[95m 36.97   \u001b[0m |\n",
      "[200]\tcv_agg's auc: 0.857761 + 0.000348771\n",
      "| \u001b[0m 5       \u001b[0m | \u001b[0m 0.8578  \u001b[0m | \u001b[0m 0.806   \u001b[0m | \u001b[0m 0.5935  \u001b[0m | \u001b[0m 4.719   \u001b[0m | \u001b[0m 2.045   \u001b[0m | \u001b[0m 6.438   \u001b[0m | \u001b[0m 224.1   \u001b[0m | \u001b[0m 36.39   \u001b[0m | \u001b[0m 0.006962\u001b[0m | \u001b[0m 38.0    \u001b[0m |\n",
      "[200]\tcv_agg's auc: 0.85751 + 0.000557108\n",
      "[400]\tcv_agg's auc: 0.85779 + 0.00047401\n",
      "| \u001b[0m 6       \u001b[0m | \u001b[0m 0.8578  \u001b[0m | \u001b[0m 0.8353  \u001b[0m | \u001b[0m 0.2683  \u001b[0m | \u001b[0m 0.6446  \u001b[0m | \u001b[0m 0.9463  \u001b[0m | \u001b[0m 6.455   \u001b[0m | \u001b[0m 289.4   \u001b[0m | \u001b[0m 24.74   \u001b[0m | \u001b[0m 0.09885 \u001b[0m | \u001b[0m 26.14   \u001b[0m |\n",
      "[200]\tcv_agg's auc: 0.856092 + 0.000594712\n",
      "[400]\tcv_agg's auc: 0.857145 + 0.0003882\n",
      "[600]\tcv_agg's auc: 0.857216 + 0.000295637\n",
      "| \u001b[0m 7       \u001b[0m | \u001b[0m 0.8573  \u001b[0m | \u001b[0m 0.6044  \u001b[0m | \u001b[0m 0.229   \u001b[0m | \u001b[0m 3.266   \u001b[0m | \u001b[0m 0.7599  \u001b[0m | \u001b[0m 6.865   \u001b[0m | \u001b[0m 129.8   \u001b[0m | \u001b[0m 12.15   \u001b[0m | \u001b[0m 0.01193 \u001b[0m | \u001b[0m 37.78   \u001b[0m |\n",
      "[200]\tcv_agg's auc: 0.857263 + 0.000545776\n",
      "[400]\tcv_agg's auc: 0.857766 + 0.000461398\n",
      "| \u001b[0m 8       \u001b[0m | \u001b[0m 0.8578  \u001b[0m | \u001b[0m 0.5691  \u001b[0m | \u001b[0m 0.2573  \u001b[0m | \u001b[0m 1.844   \u001b[0m | \u001b[0m 2.463   \u001b[0m | \u001b[0m 5.388   \u001b[0m | \u001b[0m 420.6   \u001b[0m | \u001b[0m 9.324   \u001b[0m | \u001b[0m 0.09767 \u001b[0m | \u001b[0m 33.84   \u001b[0m |\n",
      "[200]\tcv_agg's auc: 0.857912 + 0.000472681\n",
      "| \u001b[95m 9       \u001b[0m | \u001b[95m 0.858   \u001b[0m | \u001b[95m 0.9884  \u001b[0m | \u001b[95m 0.5839  \u001b[0m | \u001b[95m 3.696   \u001b[0m | \u001b[95m 0.1176  \u001b[0m | \u001b[95m 6.131   \u001b[0m | \u001b[95m 68.9    \u001b[0m | \u001b[95m 18.33   \u001b[0m | \u001b[95m 0.01275 \u001b[0m | \u001b[95m 30.68   \u001b[0m |\n",
      "[200]\tcv_agg's auc: 0.856135 + 0.000582668\n",
      "[400]\tcv_agg's auc: 0.857169 + 0.000373393\n",
      "[600]\tcv_agg's auc: 0.857399 + 0.000334195\n",
      "| \u001b[0m 10      \u001b[0m | \u001b[0m 0.8574  \u001b[0m | \u001b[0m 0.7071  \u001b[0m | \u001b[0m 0.1513  \u001b[0m | \u001b[0m 3.462   \u001b[0m | \u001b[0m 1.7     \u001b[0m | \u001b[0m 6.062   \u001b[0m | \u001b[0m 266.4   \u001b[0m | \u001b[0m 9.227   \u001b[0m | \u001b[0m 0.05802 \u001b[0m | \u001b[0m 43.52   \u001b[0m |\n",
      "[200]\tcv_agg's auc: 0.857778 + 0.000384765\n",
      "| \u001b[0m 11      \u001b[0m | \u001b[0m 0.8578  \u001b[0m | \u001b[0m 0.6593  \u001b[0m | \u001b[0m 0.6339  \u001b[0m | \u001b[0m 0.659   \u001b[0m | \u001b[0m 2.149   \u001b[0m | \u001b[0m 6.158   \u001b[0m | \u001b[0m 99.76   \u001b[0m | \u001b[0m 31.39   \u001b[0m | \u001b[0m 0.002991\u001b[0m | \u001b[0m 41.41   \u001b[0m |\n",
      "[200]\tcv_agg's auc: 0.85761 + 0.000327484\n",
      "| \u001b[0m 12      \u001b[0m | \u001b[0m 0.8578  \u001b[0m | \u001b[0m 0.5023  \u001b[0m | \u001b[0m 0.6423  \u001b[0m | \u001b[0m 1.35    \u001b[0m | \u001b[0m 2.206   \u001b[0m | \u001b[0m 8.849   \u001b[0m | \u001b[0m 131.9   \u001b[0m | \u001b[0m 30.93   \u001b[0m | \u001b[0m 0.05961 \u001b[0m | \u001b[0m 36.02   \u001b[0m |\n",
      "[200]\tcv_agg's auc: 0.856878 + 0.000276203\n",
      "| \u001b[0m 13      \u001b[0m | \u001b[0m 0.8572  \u001b[0m | \u001b[0m 0.6115  \u001b[0m | \u001b[0m 0.8622  \u001b[0m | \u001b[0m 2.236   \u001b[0m | \u001b[0m 2.539   \u001b[0m | \u001b[0m 7.798   \u001b[0m | \u001b[0m 155.7   \u001b[0m | \u001b[0m 41.62   \u001b[0m | \u001b[0m 0.04025 \u001b[0m | \u001b[0m 42.5    \u001b[0m |\n",
      "[200]\tcv_agg's auc: 0.857124 + 0.00029668\n",
      "| \u001b[0m 14      \u001b[0m | \u001b[0m 0.8573  \u001b[0m | \u001b[0m 0.7906  \u001b[0m | \u001b[0m 0.8054  \u001b[0m | \u001b[0m 3.463   \u001b[0m | \u001b[0m 2.176   \u001b[0m | \u001b[0m 7.005   \u001b[0m | \u001b[0m 478.5   \u001b[0m | \u001b[0m 33.98   \u001b[0m | \u001b[0m 0.04296 \u001b[0m | \u001b[0m 36.73   \u001b[0m |\n",
      "[200]\tcv_agg's auc: 0.857513 + 0.000381203\n",
      "[400]\tcv_agg's auc: 0.857756 + 0.00024646\n",
      "| \u001b[0m 15      \u001b[0m | \u001b[0m 0.8578  \u001b[0m | \u001b[0m 0.5096  \u001b[0m | \u001b[0m 0.3413  \u001b[0m | \u001b[0m 3.301   \u001b[0m | \u001b[0m 0.8702  \u001b[0m | \u001b[0m 7.472   \u001b[0m | \u001b[0m 220.1   \u001b[0m | \u001b[0m 11.1    \u001b[0m | \u001b[0m 0.03053 \u001b[0m | \u001b[0m 35.97   \u001b[0m |\n",
      "[200]\tcv_agg's auc: 0.857573 + 0.000379403\n",
      "| \u001b[0m 16      \u001b[0m | \u001b[0m 0.8577  \u001b[0m | \u001b[0m 0.7954  \u001b[0m | \u001b[0m 0.5595  \u001b[0m | \u001b[0m 3.266   \u001b[0m | \u001b[0m 1.956   \u001b[0m | \u001b[0m 6.726   \u001b[0m | \u001b[0m 449.3   \u001b[0m | \u001b[0m 21.54   \u001b[0m | \u001b[0m 0.04415 \u001b[0m | \u001b[0m 42.73   \u001b[0m |\n",
      "[200]\tcv_agg's auc: 0.857462 + 0.000433747\n",
      "| \u001b[0m 17      \u001b[0m | \u001b[0m 0.8575  \u001b[0m | \u001b[0m 0.9031  \u001b[0m | \u001b[0m 0.6631  \u001b[0m | \u001b[0m 0.5011  \u001b[0m | \u001b[0m 2.758   \u001b[0m | \u001b[0m 7.857   \u001b[0m | \u001b[0m 499.4   \u001b[0m | \u001b[0m 11.73   \u001b[0m | \u001b[0m 0.08694 \u001b[0m | \u001b[0m 27.41   \u001b[0m |\n",
      "[200]\tcv_agg's auc: 0.856069 + 0.000576947\n",
      "[400]\tcv_agg's auc: 0.85713 + 0.000427964\n",
      "[600]\tcv_agg's auc: 0.857355 + 0.000398052\n",
      "| \u001b[0m 18      \u001b[0m | \u001b[0m 0.8574  \u001b[0m | \u001b[0m 0.8078  \u001b[0m | \u001b[0m 0.1991  \u001b[0m | \u001b[0m 4.24    \u001b[0m | \u001b[0m 2.422   \u001b[0m | \u001b[0m 7.276   \u001b[0m | \u001b[0m 209.5   \u001b[0m | \u001b[0m 8.113   \u001b[0m | \u001b[0m 0.07005 \u001b[0m | \u001b[0m 33.52   \u001b[0m |\n",
      "[200]\tcv_agg's auc: 0.857516 + 0.000409682\n",
      "| \u001b[0m 19      \u001b[0m | \u001b[0m 0.8576  \u001b[0m | \u001b[0m 0.861   \u001b[0m | \u001b[0m 0.7931  \u001b[0m | \u001b[0m 4.878   \u001b[0m | \u001b[0m 2.567   \u001b[0m | \u001b[0m 5.047   \u001b[0m | \u001b[0m 186.4   \u001b[0m | \u001b[0m 37.85   \u001b[0m | \u001b[0m 0.01799 \u001b[0m | \u001b[0m 34.94   \u001b[0m |\n",
      "[200]\tcv_agg's auc: 0.857433 + 0.000510323\n",
      "[400]\tcv_agg's auc: 0.857698 + 0.000411463\n",
      "| \u001b[0m 20      \u001b[0m | \u001b[0m 0.8578  \u001b[0m | \u001b[0m 0.5272  \u001b[0m | \u001b[0m 0.26    \u001b[0m | \u001b[0m 0.09261 \u001b[0m | \u001b[0m 2.381   \u001b[0m | \u001b[0m 5.896   \u001b[0m | \u001b[0m 179.2   \u001b[0m | \u001b[0m 46.76   \u001b[0m | \u001b[0m 0.07074 \u001b[0m | \u001b[0m 24.67   \u001b[0m |\n",
      "[200]\tcv_agg's auc: 0.855978 + 0.000526957\n",
      "[400]\tcv_agg's auc: 0.857074 + 0.000394784\n",
      "[600]\tcv_agg's auc: 0.857298 + 0.000387011\n",
      "| \u001b[0m 21      \u001b[0m | \u001b[0m 0.8573  \u001b[0m | \u001b[0m 0.5396  \u001b[0m | \u001b[0m 0.1679  \u001b[0m | \u001b[0m 4.675   \u001b[0m | \u001b[0m 2.432   \u001b[0m | \u001b[0m 8.566   \u001b[0m | \u001b[0m 333.0   \u001b[0m | \u001b[0m 14.84   \u001b[0m | \u001b[0m 0.08196 \u001b[0m | \u001b[0m 41.45   \u001b[0m |\n",
      "[200]\tcv_agg's auc: 0.857429 + 0.000302758\n",
      "| \u001b[0m 22      \u001b[0m | \u001b[0m 0.8576  \u001b[0m | \u001b[0m 0.6323  \u001b[0m | \u001b[0m 0.7846  \u001b[0m | \u001b[0m 2.725   \u001b[0m | \u001b[0m 0.5532  \u001b[0m | \u001b[0m 5.285   \u001b[0m | \u001b[0m 422.3   \u001b[0m | \u001b[0m 43.13   \u001b[0m | \u001b[0m 0.006852\u001b[0m | \u001b[0m 36.72   \u001b[0m |\n",
      "[200]\tcv_agg's auc: 0.857498 + 0.00042163\n",
      "| \u001b[0m 23      \u001b[0m | \u001b[0m 0.8577  \u001b[0m | \u001b[0m 0.7427  \u001b[0m | \u001b[0m 0.6053  \u001b[0m | \u001b[0m 1.965   \u001b[0m | \u001b[0m 1.607   \u001b[0m | \u001b[0m 7.804   \u001b[0m | \u001b[0m 144.8   \u001b[0m | \u001b[0m 38.03   \u001b[0m | \u001b[0m 0.03665 \u001b[0m | \u001b[0m 42.61   \u001b[0m |\n",
      "[200]\tcv_agg's auc: 0.85804 + 0.00046593\n",
      "| \u001b[95m 24      \u001b[0m | \u001b[95m 0.8581  \u001b[0m | \u001b[95m 0.6409  \u001b[0m | \u001b[95m 0.3822  \u001b[0m | \u001b[95m 2.205   \u001b[0m | \u001b[95m 0.536   \u001b[0m | \u001b[95m 7.641   \u001b[0m | \u001b[95m 214.8   \u001b[0m | \u001b[95m 31.24   \u001b[0m | \u001b[95m 0.06606 \u001b[0m | \u001b[95m 35.8    \u001b[0m |\n",
      "[200]\tcv_agg's auc: 0.85768 + 0.000384114\n",
      "| \u001b[0m 25      \u001b[0m | \u001b[0m 0.8578  \u001b[0m | \u001b[0m 0.5092  \u001b[0m | \u001b[0m 0.5995  \u001b[0m | \u001b[0m 3.164   \u001b[0m | \u001b[0m 0.8881  \u001b[0m | \u001b[0m 7.623   \u001b[0m | \u001b[0m 214.8   \u001b[0m | \u001b[0m 31.96   \u001b[0m | \u001b[0m 0.06716 \u001b[0m | \u001b[0m 32.55   \u001b[0m |\n",
      "[200]\tcv_agg's auc: 0.857858 + 0.000485437\n",
      "| \u001b[0m 26      \u001b[0m | \u001b[0m 0.858   \u001b[0m | \u001b[0m 0.5879  \u001b[0m | \u001b[0m 0.6205  \u001b[0m | \u001b[0m 2.114   \u001b[0m | \u001b[0m 1.388   \u001b[0m | \u001b[0m 6.954   \u001b[0m | \u001b[0m 215.7   \u001b[0m | \u001b[0m 29.11   \u001b[0m | \u001b[0m 0.001026\u001b[0m | \u001b[0m 37.55   \u001b[0m |\n",
      "[200]\tcv_agg's auc: 0.856001 + 0.000546101\n",
      "[400]\tcv_agg's auc: 0.857075 + 0.000402816\n",
      "[600]\tcv_agg's auc: 0.8573 + 0.000360383\n",
      "| \u001b[0m 27      \u001b[0m | \u001b[0m 0.8573  \u001b[0m | \u001b[0m 0.7476  \u001b[0m | \u001b[0m 0.2357  \u001b[0m | \u001b[0m 4.992   \u001b[0m | \u001b[0m 0.3462  \u001b[0m | \u001b[0m 7.884   \u001b[0m | \u001b[0m 214.6   \u001b[0m | \u001b[0m 32.0    \u001b[0m | \u001b[0m 0.09795 \u001b[0m | \u001b[0m 37.58   \u001b[0m |\n",
      "[200]\tcv_agg's auc: 0.857737 + 0.000395984\n",
      "| \u001b[0m 28      \u001b[0m | \u001b[0m 0.8578  \u001b[0m | \u001b[0m 0.8079  \u001b[0m | \u001b[0m 0.6483  \u001b[0m | \u001b[0m 1.794   \u001b[0m | \u001b[0m 0.0148  \u001b[0m | \u001b[0m 5.998   \u001b[0m | \u001b[0m 216.4   \u001b[0m | \u001b[0m 31.97   \u001b[0m | \u001b[0m 0.02075 \u001b[0m | \u001b[0m 35.09   \u001b[0m |\n",
      "[200]\tcv_agg's auc: 0.857839 + 0.00026069\n",
      "| \u001b[0m 29      \u001b[0m | \u001b[0m 0.8579  \u001b[0m | \u001b[0m 0.9449  \u001b[0m | \u001b[0m 0.7454  \u001b[0m | \u001b[0m 1.48    \u001b[0m | \u001b[0m 1.572   \u001b[0m | \u001b[0m 6.375   \u001b[0m | \u001b[0m 215.9   \u001b[0m | \u001b[0m 30.38   \u001b[0m | \u001b[0m 0.09306 \u001b[0m | \u001b[0m 36.35   \u001b[0m |\n",
      "[200]\tcv_agg's auc: 0.857982 + 0.000418165\n",
      "| \u001b[0m 30      \u001b[0m | \u001b[0m 0.858   \u001b[0m | \u001b[0m 0.8689  \u001b[0m | \u001b[0m 0.5122  \u001b[0m | \u001b[0m 2.591   \u001b[0m | \u001b[0m 1.304   \u001b[0m | \u001b[0m 6.471   \u001b[0m | \u001b[0m 67.96   \u001b[0m | \u001b[0m 19.29   \u001b[0m | \u001b[0m 0.004988\u001b[0m | \u001b[0m 31.02   \u001b[0m |\n",
      "[200]\tcv_agg's auc: 0.857878 + 0.000391158\n",
      "| \u001b[0m 31      \u001b[0m | \u001b[0m 0.858   \u001b[0m | \u001b[0m 0.5577  \u001b[0m | \u001b[0m 0.5556  \u001b[0m | \u001b[0m 3.438   \u001b[0m | \u001b[0m 0.923   \u001b[0m | \u001b[0m 7.669   \u001b[0m | \u001b[0m 66.42   \u001b[0m | \u001b[0m 16.61   \u001b[0m | \u001b[0m 0.07477 \u001b[0m | \u001b[0m 32.06   \u001b[0m |\n",
      "[200]\tcv_agg's auc: 0.856043 + 0.000579261\n",
      "[400]\tcv_agg's auc: 0.857112 + 0.000407686\n",
      "[600]\tcv_agg's auc: 0.857258 + 0.000293566\n",
      "| \u001b[0m 32      \u001b[0m | \u001b[0m 0.8573  \u001b[0m | \u001b[0m 0.8391  \u001b[0m | \u001b[0m 0.2005  \u001b[0m | \u001b[0m 3.553   \u001b[0m | \u001b[0m 2.224   \u001b[0m | \u001b[0m 8.476   \u001b[0m | \u001b[0m 69.03   \u001b[0m | \u001b[0m 17.53   \u001b[0m | \u001b[0m 0.03009 \u001b[0m | \u001b[0m 30.28   \u001b[0m |\n",
      "[200]\tcv_agg's auc: 0.857571 + 0.000372275\n",
      "[400]\tcv_agg's auc: 0.857748 + 0.000322684\n",
      "| \u001b[0m 33      \u001b[0m | \u001b[0m 0.8578  \u001b[0m | \u001b[0m 0.7437  \u001b[0m | \u001b[0m 0.2563  \u001b[0m | \u001b[0m 2.324   \u001b[0m | \u001b[0m 1.285   \u001b[0m | \u001b[0m 7.091   \u001b[0m | \u001b[0m 66.8    \u001b[0m | \u001b[0m 14.89   \u001b[0m | \u001b[0m 0.004307\u001b[0m | \u001b[0m 30.93   \u001b[0m |\n",
      "[200]\tcv_agg's auc: 0.857708 + 0.000428632\n",
      "| \u001b[0m 34      \u001b[0m | \u001b[0m 0.8577  \u001b[0m | \u001b[0m 0.5356  \u001b[0m | \u001b[0m 0.603   \u001b[0m | \u001b[0m 2.058   \u001b[0m | \u001b[0m 2.064   \u001b[0m | \u001b[0m 6.885   \u001b[0m | \u001b[0m 214.7   \u001b[0m | \u001b[0m 30.42   \u001b[0m | \u001b[0m 0.09839 \u001b[0m | \u001b[0m 34.39   \u001b[0m |\n",
      "[200]\tcv_agg's auc: 0.857492 + 0.000448494\n",
      "[400]\tcv_agg's auc: 0.857891 + 0.000359461\n",
      "| \u001b[0m 35      \u001b[0m | \u001b[0m 0.8579  \u001b[0m | \u001b[0m 0.7247  \u001b[0m | \u001b[0m 0.2533  \u001b[0m | \u001b[0m 3.829   \u001b[0m | \u001b[0m 1.717   \u001b[0m | \u001b[0m 6.201   \u001b[0m | \u001b[0m 67.66   \u001b[0m | \u001b[0m 19.96   \u001b[0m | \u001b[0m 0.05263 \u001b[0m | \u001b[0m 30.22   \u001b[0m |\n",
      "[200]\tcv_agg's auc: 0.857448 + 0.000393575\n",
      "[400]\tcv_agg's auc: 0.857589 + 0.000367368\n",
      "| \u001b[0m 36      \u001b[0m | \u001b[0m 0.8577  \u001b[0m | \u001b[0m 0.8699  \u001b[0m | \u001b[0m 0.2512  \u001b[0m | \u001b[0m 0.8601  \u001b[0m | \u001b[0m 1.682   \u001b[0m | \u001b[0m 8.443   \u001b[0m | \u001b[0m 214.4   \u001b[0m | \u001b[0m 30.43   \u001b[0m | \u001b[0m 0.05889 \u001b[0m | \u001b[0m 37.18   \u001b[0m |\n",
      "[200]\tcv_agg's auc: 0.857843 + 0.000425168\n",
      "| \u001b[0m 37      \u001b[0m | \u001b[0m 0.8579  \u001b[0m | \u001b[0m 0.8114  \u001b[0m | \u001b[0m 0.7074  \u001b[0m | \u001b[0m 1.864   \u001b[0m | \u001b[0m 0.05404 \u001b[0m | \u001b[0m 6.468   \u001b[0m | \u001b[0m 67.34   \u001b[0m | \u001b[0m 16.75   \u001b[0m | \u001b[0m 0.08353 \u001b[0m | \u001b[0m 32.72   \u001b[0m |\n",
      "[200]\tcv_agg's auc: 0.85783 + 0.000313193\n",
      "| \u001b[0m 38      \u001b[0m | \u001b[0m 0.8579  \u001b[0m | \u001b[0m 0.5908  \u001b[0m | \u001b[0m 0.5291  \u001b[0m | \u001b[0m 2.186   \u001b[0m | \u001b[0m 0.1256  \u001b[0m | \u001b[0m 5.673   \u001b[0m | \u001b[0m 213.8   \u001b[0m | \u001b[0m 29.0    \u001b[0m | \u001b[0m 0.04927 \u001b[0m | \u001b[0m 36.61   \u001b[0m |\n",
      "[200]\tcv_agg's auc: 0.856915 + 0.000164885\n",
      "| \u001b[0m 39      \u001b[0m | \u001b[0m 0.8572  \u001b[0m | \u001b[0m 0.8839  \u001b[0m | \u001b[0m 0.8703  \u001b[0m | \u001b[0m 1.158   \u001b[0m | \u001b[0m 1.558   \u001b[0m | \u001b[0m 8.891   \u001b[0m | \u001b[0m 217.5   \u001b[0m | \u001b[0m 28.43   \u001b[0m | \u001b[0m 0.08699 \u001b[0m | \u001b[0m 37.99   \u001b[0m |\n",
      "[200]\tcv_agg's auc: 0.856071 + 0.00059968\n",
      "[400]\tcv_agg's auc: 0.857178 + 0.000369473\n",
      "[600]\tcv_agg's auc: 0.857335 + 0.000280412\n",
      "| \u001b[0m 40      \u001b[0m | \u001b[0m 0.8573  \u001b[0m | \u001b[0m 0.9072  \u001b[0m | \u001b[0m 0.2192  \u001b[0m | \u001b[0m 3.475   \u001b[0m | \u001b[0m 2.698   \u001b[0m | \u001b[0m 7.311   \u001b[0m | \u001b[0m 65.88   \u001b[0m | \u001b[0m 16.53   \u001b[0m | \u001b[0m 0.03254 \u001b[0m | \u001b[0m 31.45   \u001b[0m |\n",
      "[200]\tcv_agg's auc: 0.857875 + 0.00038977\n",
      "| \u001b[0m 41      \u001b[0m | \u001b[0m 0.8579  \u001b[0m | \u001b[0m 0.5943  \u001b[0m | \u001b[0m 0.4592  \u001b[0m | \u001b[0m 1.917   \u001b[0m | \u001b[0m 0.8911  \u001b[0m | \u001b[0m 6.081   \u001b[0m | \u001b[0m 213.4   \u001b[0m | \u001b[0m 30.76   \u001b[0m | \u001b[0m 0.04378 \u001b[0m | \u001b[0m 36.77   \u001b[0m |\n",
      "[200]\tcv_agg's auc: 0.857374 + 0.00055405\n",
      "[400]\tcv_agg's auc: 0.857893 + 0.000415028\n",
      "| \u001b[0m 42      \u001b[0m | \u001b[0m 0.8579  \u001b[0m | \u001b[0m 0.5026  \u001b[0m | \u001b[0m 0.2902  \u001b[0m | \u001b[0m 3.029   \u001b[0m | \u001b[0m 1.981   \u001b[0m | \u001b[0m 5.143   \u001b[0m | \u001b[0m 68.51   \u001b[0m | \u001b[0m 16.37   \u001b[0m | \u001b[0m 0.05724 \u001b[0m | \u001b[0m 31.9    \u001b[0m |\n",
      "[200]\tcv_agg's auc: 0.857754 + 0.000195214\n",
      "| \u001b[0m 43      \u001b[0m | \u001b[0m 0.8578  \u001b[0m | \u001b[0m 0.9151  \u001b[0m | \u001b[0m 0.539   \u001b[0m | \u001b[0m 2.653   \u001b[0m | \u001b[0m 0.5701  \u001b[0m | \u001b[0m 7.665   \u001b[0m | \u001b[0m 215.5   \u001b[0m | \u001b[0m 28.42   \u001b[0m | \u001b[0m 0.0973  \u001b[0m | \u001b[0m 36.4    \u001b[0m |\n",
      "[200]\tcv_agg's auc: 0.857922 + 0.000458502\n",
      "| \u001b[0m 44      \u001b[0m | \u001b[0m 0.858   \u001b[0m | \u001b[0m 0.7043  \u001b[0m | \u001b[0m 0.6301  \u001b[0m | \u001b[0m 1.045   \u001b[0m | \u001b[0m 0.3611  \u001b[0m | \u001b[0m 5.374   \u001b[0m | \u001b[0m 66.9    \u001b[0m | \u001b[0m 19.59   \u001b[0m | \u001b[0m 0.0857  \u001b[0m | \u001b[0m 30.61   \u001b[0m |\n",
      "[200]\tcv_agg's auc: 0.857408 + 0.000544039\n",
      "[400]\tcv_agg's auc: 0.857911 + 0.000361352\n",
      "| \u001b[0m 45      \u001b[0m | \u001b[0m 0.8579  \u001b[0m | \u001b[0m 0.6085  \u001b[0m | \u001b[0m 0.3013  \u001b[0m | \u001b[0m 2.581   \u001b[0m | \u001b[0m 1.145   \u001b[0m | \u001b[0m 5.43    \u001b[0m | \u001b[0m 215.4   \u001b[0m | \u001b[0m 29.48   \u001b[0m | \u001b[0m 0.08899 \u001b[0m | \u001b[0m 37.01   \u001b[0m |\n",
      "[200]\tcv_agg's auc: 0.857833 + 0.000476905\n",
      "| \u001b[0m 46      \u001b[0m | \u001b[0m 0.8578  \u001b[0m | \u001b[0m 0.9389  \u001b[0m | \u001b[0m 0.7374  \u001b[0m | \u001b[0m 1.978   \u001b[0m | \u001b[0m 0.02915 \u001b[0m | \u001b[0m 6.484   \u001b[0m | \u001b[0m 66.61   \u001b[0m | \u001b[0m 19.63   \u001b[0m | \u001b[0m 0.05197 \u001b[0m | \u001b[0m 31.4    \u001b[0m |\n",
      "[200]\tcv_agg's auc: 0.857688 + 0.000332648\n",
      "| \u001b[0m 47      \u001b[0m | \u001b[0m 0.8577  \u001b[0m | \u001b[0m 0.7818  \u001b[0m | \u001b[0m 0.6962  \u001b[0m | \u001b[0m 3.115   \u001b[0m | \u001b[0m 0.6944  \u001b[0m | \u001b[0m 7.034   \u001b[0m | \u001b[0m 66.79   \u001b[0m | \u001b[0m 19.76   \u001b[0m | \u001b[0m 0.01586 \u001b[0m | \u001b[0m 29.15   \u001b[0m |\n",
      "[200]\tcv_agg's auc: 0.85731 + 0.000217884\n",
      "| \u001b[0m 48      \u001b[0m | \u001b[0m 0.8574  \u001b[0m | \u001b[0m 0.742   \u001b[0m | \u001b[0m 0.8659  \u001b[0m | \u001b[0m 3.847   \u001b[0m | \u001b[0m 1.089   \u001b[0m | \u001b[0m 5.85    \u001b[0m | \u001b[0m 68.1    \u001b[0m | \u001b[0m 18.3    \u001b[0m | \u001b[0m 0.01022 \u001b[0m | \u001b[0m 32.71   \u001b[0m |\n",
      "[200]\tcv_agg's auc: 0.857459 + 0.000455241\n",
      "| \u001b[0m 49      \u001b[0m | \u001b[0m 0.8576  \u001b[0m | \u001b[0m 0.7693  \u001b[0m | \u001b[0m 0.8545  \u001b[0m | \u001b[0m 3.651   \u001b[0m | \u001b[0m 1.069   \u001b[0m | \u001b[0m 5.123   \u001b[0m | \u001b[0m 69.15   \u001b[0m | \u001b[0m 16.62   \u001b[0m | \u001b[0m 0.03809 \u001b[0m | \u001b[0m 29.76   \u001b[0m |\n",
      "[200]\tcv_agg's auc: 0.857907 + 0.000386848\n",
      "| \u001b[0m 50      \u001b[0m | \u001b[0m 0.858   \u001b[0m | \u001b[0m 0.6029  \u001b[0m | \u001b[0m 0.4737  \u001b[0m | \u001b[0m 0.423   \u001b[0m | \u001b[0m 0.9055  \u001b[0m | \u001b[0m 6.109   \u001b[0m | \u001b[0m 68.09   \u001b[0m | \u001b[0m 18.47   \u001b[0m | \u001b[0m 0.04081 \u001b[0m | \u001b[0m 31.31   \u001b[0m |\n",
      "[200]\tcv_agg's auc: 0.857851 + 0.000258268\n",
      "| \u001b[0m 51      \u001b[0m | \u001b[0m 0.8579  \u001b[0m | \u001b[0m 0.6352  \u001b[0m | \u001b[0m 0.4586  \u001b[0m | \u001b[0m 2.232   \u001b[0m | \u001b[0m 0.1231  \u001b[0m | \u001b[0m 7.902   \u001b[0m | \u001b[0m 67.91   \u001b[0m | \u001b[0m 19.27   \u001b[0m | \u001b[0m 0.00525 \u001b[0m | \u001b[0m 31.81   \u001b[0m |\n",
      "[200]\tcv_agg's auc: 0.857541 + 0.000385167\n",
      "[400]\tcv_agg's auc: 0.857832 + 0.00030297\n",
      "| \u001b[0m 52      \u001b[0m | \u001b[0m 0.8578  \u001b[0m | \u001b[0m 0.9608  \u001b[0m | \u001b[0m 0.2803  \u001b[0m | \u001b[0m 3.719   \u001b[0m | \u001b[0m 1.601   \u001b[0m | \u001b[0m 6.73    \u001b[0m | \u001b[0m 213.3   \u001b[0m | \u001b[0m 28.64   \u001b[0m | \u001b[0m 0.08348 \u001b[0m | \u001b[0m 37.4    \u001b[0m |\n",
      "[200]\tcv_agg's auc: 0.857871 + 0.000374658\n",
      "| \u001b[0m 53      \u001b[0m | \u001b[0m 0.8579  \u001b[0m | \u001b[0m 0.8143  \u001b[0m | \u001b[0m 0.5369  \u001b[0m | \u001b[0m 0.2145  \u001b[0m | \u001b[0m 1.183   \u001b[0m | \u001b[0m 6.272   \u001b[0m | \u001b[0m 67.86   \u001b[0m | \u001b[0m 16.77   \u001b[0m | \u001b[0m 0.02491 \u001b[0m | \u001b[0m 28.93   \u001b[0m |\n",
      "[200]\tcv_agg's auc: 0.858017 + 0.000364457\n",
      "| \u001b[0m 54      \u001b[0m | \u001b[0m 0.858   \u001b[0m | \u001b[0m 0.5549  \u001b[0m | \u001b[0m 0.5777  \u001b[0m | \u001b[0m 2.794   \u001b[0m | \u001b[0m 0.6133  \u001b[0m | \u001b[0m 7.498   \u001b[0m | \u001b[0m 67.71   \u001b[0m | \u001b[0m 17.54   \u001b[0m | \u001b[0m 0.07614 \u001b[0m | \u001b[0m 30.69   \u001b[0m |\n",
      "[200]\tcv_agg's auc: 0.857888 + 0.000345655\n",
      "| \u001b[0m 55      \u001b[0m | \u001b[0m 0.8579  \u001b[0m | \u001b[0m 0.724   \u001b[0m | \u001b[0m 0.7004  \u001b[0m | \u001b[0m 2.415   \u001b[0m | \u001b[0m 0.1027  \u001b[0m | \u001b[0m 5.947   \u001b[0m | \u001b[0m 212.8   \u001b[0m | \u001b[0m 29.45   \u001b[0m | \u001b[0m 0.0676  \u001b[0m | \u001b[0m 38.09   \u001b[0m |\n",
      "[200]\tcv_agg's auc: 0.856181 + 0.000618427\n",
      "[400]\tcv_agg's auc: 0.857187 + 0.000445382\n",
      "[600]\tcv_agg's auc: 0.857323 + 0.000374078\n",
      "| \u001b[0m 56      \u001b[0m | \u001b[0m 0.8573  \u001b[0m | \u001b[0m 0.9558  \u001b[0m | \u001b[0m 0.1657  \u001b[0m | \u001b[0m 1.638   \u001b[0m | \u001b[0m 0.9648  \u001b[0m | \u001b[0m 5.696   \u001b[0m | \u001b[0m 68.56   \u001b[0m | \u001b[0m 18.17   \u001b[0m | \u001b[0m 0.05834 \u001b[0m | \u001b[0m 32.31   \u001b[0m |\n",
      "[200]\tcv_agg's auc: 0.858164 + 0.0004982\n",
      "| \u001b[95m 57      \u001b[0m | \u001b[95m 0.8582  \u001b[0m | \u001b[95m 0.661   \u001b[0m | \u001b[95m 0.3592  \u001b[0m | \u001b[95m 0.2811  \u001b[0m | \u001b[95m 0.9465  \u001b[0m | \u001b[95m 6.727   \u001b[0m | \u001b[95m 68.11   \u001b[0m | \u001b[95m 15.27   \u001b[0m | \u001b[95m 0.04024 \u001b[0m | \u001b[95m 30.82   \u001b[0m |\n",
      "[200]\tcv_agg's auc: 0.857714 + 0.000420733\n",
      "| \u001b[0m 58      \u001b[0m | \u001b[0m 0.8578  \u001b[0m | \u001b[0m 0.9754  \u001b[0m | \u001b[0m 0.689   \u001b[0m | \u001b[0m 0.9903  \u001b[0m | \u001b[0m 1.784   \u001b[0m | \u001b[0m 6.545   \u001b[0m | \u001b[0m 66.91   \u001b[0m | \u001b[0m 19.97   \u001b[0m | \u001b[0m 0.01072 \u001b[0m | \u001b[0m 31.77   \u001b[0m |\n",
      "[200]\tcv_agg's auc: 0.85731 + 0.000349227\n",
      "| \u001b[0m 59      \u001b[0m | \u001b[0m 0.8574  \u001b[0m | \u001b[0m 0.5664  \u001b[0m | \u001b[0m 0.8533  \u001b[0m | \u001b[0m 2.129   \u001b[0m | \u001b[0m 0.7859  \u001b[0m | \u001b[0m 7.054   \u001b[0m | \u001b[0m 70.08   \u001b[0m | \u001b[0m 16.23   \u001b[0m | \u001b[0m 0.03702 \u001b[0m | \u001b[0m 31.67   \u001b[0m |\n",
      "[200]\tcv_agg's auc: 0.857646 + 0.000430402\n",
      "| \u001b[0m 60      \u001b[0m | \u001b[0m 0.8577  \u001b[0m | \u001b[0m 0.8595  \u001b[0m | \u001b[0m 0.7746  \u001b[0m | \u001b[0m 1.553   \u001b[0m | \u001b[0m 1.746   \u001b[0m | \u001b[0m 6.477   \u001b[0m | \u001b[0m 67.72   \u001b[0m | \u001b[0m 19.02   \u001b[0m | \u001b[0m 0.05107 \u001b[0m | \u001b[0m 29.26   \u001b[0m |\n",
      "[200]\tcv_agg's auc: 0.857306 + 0.000430435\n",
      "| \u001b[0m 61      \u001b[0m | \u001b[0m 0.8573  \u001b[0m | \u001b[0m 0.5022  \u001b[0m | \u001b[0m 0.87    \u001b[0m | \u001b[0m 1.054   \u001b[0m | \u001b[0m 0.2768  \u001b[0m | \u001b[0m 5.357   \u001b[0m | \u001b[0m 214.8   \u001b[0m | \u001b[0m 29.97   \u001b[0m | \u001b[0m 0.04885 \u001b[0m | \u001b[0m 37.88   \u001b[0m |\n",
      "[200]\tcv_agg's auc: 0.857654 + 0.000271402\n",
      "| \u001b[0m 62      \u001b[0m | \u001b[0m 0.8577  \u001b[0m | \u001b[0m 0.6582  \u001b[0m | \u001b[0m 0.6821  \u001b[0m | \u001b[0m 1.474   \u001b[0m | \u001b[0m 0.07438 \u001b[0m | \u001b[0m 5.465   \u001b[0m | \u001b[0m 68.61   \u001b[0m | \u001b[0m 19.36   \u001b[0m | \u001b[0m 0.03718 \u001b[0m | \u001b[0m 31.38   \u001b[0m |\n",
      "[200]\tcv_agg's auc: 0.858056 + 0.000353197\n",
      "| \u001b[0m 63      \u001b[0m | \u001b[0m 0.8581  \u001b[0m | \u001b[0m 0.9862  \u001b[0m | \u001b[0m 0.5276  \u001b[0m | \u001b[0m 1.488   \u001b[0m | \u001b[0m 0.9225  \u001b[0m | \u001b[0m 5.957   \u001b[0m | \u001b[0m 68.89   \u001b[0m | \u001b[0m 17.07   \u001b[0m | \u001b[0m 0.08502 \u001b[0m | \u001b[0m 29.67   \u001b[0m |\n",
      "[200]\tcv_agg's auc: 0.85749 + 0.000380872\n",
      "[400]\tcv_agg's auc: 0.857678 + 0.000258014\n",
      "| \u001b[0m 64      \u001b[0m | \u001b[0m 0.8578  \u001b[0m | \u001b[0m 0.5288  \u001b[0m | \u001b[0m 0.3357  \u001b[0m | \u001b[0m 0.5496  \u001b[0m | \u001b[0m 1.871   \u001b[0m | \u001b[0m 7.756   \u001b[0m | \u001b[0m 67.5    \u001b[0m | \u001b[0m 15.95   \u001b[0m | \u001b[0m 0.01162 \u001b[0m | \u001b[0m 28.82   \u001b[0m |\n",
      "[200]\tcv_agg's auc: 0.857341 + 0.000337083\n",
      "| \u001b[0m 65      \u001b[0m | \u001b[0m 0.8575  \u001b[0m | \u001b[0m 0.7466  \u001b[0m | \u001b[0m 0.8212  \u001b[0m | \u001b[0m 1.24    \u001b[0m | \u001b[0m 1.679   \u001b[0m | \u001b[0m 8.389   \u001b[0m | \u001b[0m 216.8   \u001b[0m | \u001b[0m 32.1    \u001b[0m | \u001b[0m 0.06785 \u001b[0m | \u001b[0m 35.63   \u001b[0m |\n",
      "[200]\tcv_agg's auc: 0.858011 + 0.000205984\n",
      "| \u001b[0m 66      \u001b[0m | \u001b[0m 0.8581  \u001b[0m | \u001b[0m 0.7075  \u001b[0m | \u001b[0m 0.5143  \u001b[0m | \u001b[0m 0.7802  \u001b[0m | \u001b[0m 1.309   \u001b[0m | \u001b[0m 8.125   \u001b[0m | \u001b[0m 68.41   \u001b[0m | \u001b[0m 13.56   \u001b[0m | \u001b[0m 0.08009 \u001b[0m | \u001b[0m 29.7    \u001b[0m |\n",
      "[200]\tcv_agg's auc: 0.857856 + 0.000387139\n",
      "| \u001b[0m 67      \u001b[0m | \u001b[0m 0.8579  \u001b[0m | \u001b[0m 0.8168  \u001b[0m | \u001b[0m 0.5178  \u001b[0m | \u001b[0m 0.05285 \u001b[0m | \u001b[0m 2.241   \u001b[0m | \u001b[0m 5.127   \u001b[0m | \u001b[0m 68.8    \u001b[0m | \u001b[0m 15.25   \u001b[0m | \u001b[0m 0.02035 \u001b[0m | \u001b[0m 31.22   \u001b[0m |\n",
      "[200]\tcv_agg's auc: 0.858181 + 0.000470224\n",
      "| \u001b[95m 68      \u001b[0m | \u001b[95m 0.8582  \u001b[0m | \u001b[95m 0.6748  \u001b[0m | \u001b[95m 0.3679  \u001b[0m | \u001b[95m 0.1263  \u001b[0m | \u001b[95m 2.576   \u001b[0m | \u001b[95m 5.633   \u001b[0m | \u001b[95m 67.79   \u001b[0m | \u001b[95m 13.23   \u001b[0m | \u001b[95m 0.04959 \u001b[0m | \u001b[95m 29.81   \u001b[0m |\n",
      "[200]\tcv_agg's auc: 0.857784 + 0.000455005\n",
      "| \u001b[0m 69      \u001b[0m | \u001b[0m 0.8578  \u001b[0m | \u001b[0m 0.7022  \u001b[0m | \u001b[0m 0.7395  \u001b[0m | \u001b[0m 1.895   \u001b[0m | \u001b[0m 1.484   \u001b[0m | \u001b[0m 6.943   \u001b[0m | \u001b[0m 68.4    \u001b[0m | \u001b[0m 12.4    \u001b[0m | \u001b[0m 0.03636 \u001b[0m | \u001b[0m 29.32   \u001b[0m |\n",
      "[200]\tcv_agg's auc: 0.856111 + 0.000598466\n",
      "[400]\tcv_agg's auc: 0.857084 + 0.000380099\n",
      "[600]\tcv_agg's auc: 0.857159 + 0.000296716\n",
      "| \u001b[0m 70      \u001b[0m | \u001b[0m 0.8572  \u001b[0m | \u001b[0m 0.8872  \u001b[0m | \u001b[0m 0.2425  \u001b[0m | \u001b[0m 1.172   \u001b[0m | \u001b[0m 2.035   \u001b[0m | \u001b[0m 6.772   \u001b[0m | \u001b[0m 66.1    \u001b[0m | \u001b[0m 11.91   \u001b[0m | \u001b[0m 0.05632 \u001b[0m | \u001b[0m 30.87   \u001b[0m |\n",
      "=====================================================================================================================================\n"
     ]
    }
   ],
   "source": [
    "opt_params = bayes_parameter_opt_lgb(X_train, Y_train, init_round=20, opt_round=50, n_folds=3, random_seed=6, n_estimators=1000, learning_rate=0.05)"
   ]
  },
  {
   "cell_type": "code",
   "execution_count": 42,
   "metadata": {
    "execution": {
     "iopub.execute_input": "2020-09-19T16:58:51.356906Z",
     "iopub.status.busy": "2020-09-19T16:58:51.355082Z",
     "iopub.status.idle": "2020-09-19T16:58:51.359379Z",
     "shell.execute_reply": "2020-09-19T16:58:51.357748Z"
    },
    "papermill": {
     "duration": 0.089733,
     "end_time": "2020-09-19T16:58:51.359491",
     "exception": false,
     "start_time": "2020-09-19T16:58:51.269758",
     "status": "completed"
    },
    "tags": []
   },
   "outputs": [
    {
     "data": {
      "text/plain": [
       "(0.8581846348221301,\n",
       " {'bagging_fraction': 0.6748413432573791,\n",
       "  'feature_fraction': 0.3679391904942658,\n",
       "  'lambda_l1': 0.12634823005251483,\n",
       "  'lambda_l2': 2.5758763661356947,\n",
       "  'max_depth': 5.6332944140235,\n",
       "  'min_child_samples': 67.7903834682566,\n",
       "  'min_child_weight': 13.230620628598382,\n",
       "  'min_split_gain': 0.049593356088361185,\n",
       "  'num_leaves': 29.807441218992093})"
      ]
     },
     "execution_count": 42,
     "metadata": {},
     "output_type": "execute_result"
    }
   ],
   "source": [
    "(opt_params)"
   ]
  },
  {
   "cell_type": "code",
   "execution_count": 43,
   "metadata": {
    "execution": {
     "iopub.execute_input": "2020-09-19T16:58:51.522154Z",
     "iopub.status.busy": "2020-09-19T16:58:51.521238Z",
     "iopub.status.idle": "2020-09-19T16:58:51.524501Z",
     "shell.execute_reply": "2020-09-19T16:58:51.523919Z"
    },
    "papermill": {
     "duration": 0.08674,
     "end_time": "2020-09-19T16:58:51.524608",
     "exception": false,
     "start_time": "2020-09-19T16:58:51.437868",
     "status": "completed"
    },
    "tags": []
   },
   "outputs": [],
   "source": [
    "opt_parameters = opt_params[1]"
   ]
  },
  {
   "cell_type": "code",
   "execution_count": 44,
   "metadata": {
    "execution": {
     "iopub.execute_input": "2020-09-19T16:58:51.689489Z",
     "iopub.status.busy": "2020-09-19T16:58:51.688858Z",
     "iopub.status.idle": "2020-09-19T16:58:51.692152Z",
     "shell.execute_reply": "2020-09-19T16:58:51.692562Z"
    },
    "papermill": {
     "duration": 0.088628,
     "end_time": "2020-09-19T16:58:51.692696",
     "exception": false,
     "start_time": "2020-09-19T16:58:51.604068",
     "status": "completed"
    },
    "tags": []
   },
   "outputs": [
    {
     "data": {
      "text/plain": [
       "0.6748413432573791"
      ]
     },
     "execution_count": 44,
     "metadata": {},
     "output_type": "execute_result"
    }
   ],
   "source": [
    "opt_parameters[\"bagging_fraction\"]"
   ]
  },
  {
   "cell_type": "code",
   "execution_count": 45,
   "metadata": {
    "execution": {
     "iopub.execute_input": "2020-09-19T16:58:51.862915Z",
     "iopub.status.busy": "2020-09-19T16:58:51.861760Z",
     "iopub.status.idle": "2020-09-19T16:58:51.864688Z",
     "shell.execute_reply": "2020-09-19T16:58:51.864243Z"
    },
    "papermill": {
     "duration": 0.090112,
     "end_time": "2020-09-19T16:58:51.864792",
     "exception": false,
     "start_time": "2020-09-19T16:58:51.774680",
     "status": "completed"
    },
    "tags": []
   },
   "outputs": [],
   "source": [
    "import lightgbm as lgb\n",
    "opt_model_lgb = lgb.LGBMClassifier(bagging_fraction = opt_parameters[\"bagging_fraction\"],\n",
    "                                   feature_fraction = opt_parameters[\"feature_fraction\"],\n",
    "                                   lambda_l1 = opt_parameters[\"lambda_l1\"],\n",
    "                                   lambda_l2 = opt_parameters[\"lambda_l2\"],\n",
    "                                   max_depth = int(round(opt_parameters[\"max_depth\"])),\n",
    "                                   min_child_weight = opt_parameters[\"min_child_weight\"],\n",
    "                                   min_child_samples = int(round(opt_parameters[\"min_child_samples\"])),\n",
    "                                   min_split_gain = opt_parameters[\"min_split_gain\"],\n",
    "                                   num_leaves = int(round(opt_parameters[\"num_leaves\"]))\n",
    "                                    )"
   ]
  },
  {
   "cell_type": "code",
   "execution_count": 46,
   "metadata": {
    "execution": {
     "iopub.execute_input": "2020-09-19T16:58:52.031119Z",
     "iopub.status.busy": "2020-09-19T16:58:52.030498Z",
     "iopub.status.idle": "2020-09-19T16:58:53.462683Z",
     "shell.execute_reply": "2020-09-19T16:58:53.463640Z"
    },
    "papermill": {
     "duration": 1.519228,
     "end_time": "2020-09-19T16:58:53.463820",
     "exception": false,
     "start_time": "2020-09-19T16:58:51.944592",
     "status": "completed"
    },
    "tags": []
   },
   "outputs": [
    {
     "data": {
      "text/plain": [
       "LGBMClassifier(bagging_fraction=0.6748413432573791,\n",
       "               feature_fraction=0.3679391904942658,\n",
       "               lambda_l1=0.12634823005251483, lambda_l2=2.5758763661356947,\n",
       "               max_depth=6, min_child_samples=68,\n",
       "               min_child_weight=13.230620628598382,\n",
       "               min_split_gain=0.049593356088361185, num_leaves=30)"
      ]
     },
     "execution_count": 46,
     "metadata": {},
     "output_type": "execute_result"
    }
   ],
   "source": [
    "opt_model_lgb.fit(X_train,Y_train)"
   ]
  },
  {
   "cell_type": "code",
   "execution_count": 47,
   "metadata": {
    "execution": {
     "iopub.execute_input": "2020-09-19T16:58:53.698908Z",
     "iopub.status.busy": "2020-09-19T16:58:53.698335Z",
     "iopub.status.idle": "2020-09-19T16:58:54.925510Z",
     "shell.execute_reply": "2020-09-19T16:58:54.926264Z"
    },
    "papermill": {
     "duration": 1.333919,
     "end_time": "2020-09-19T16:58:54.926606",
     "exception": false,
     "start_time": "2020-09-19T16:58:53.592687",
     "status": "completed"
    },
    "tags": []
   },
   "outputs": [
    {
     "data": {
      "text/plain": [
       "0.8582369759806809"
      ]
     },
     "execution_count": 47,
     "metadata": {},
     "output_type": "execute_result"
    }
   ],
   "source": [
    "from sklearn.metrics import classification_report,confusion_matrix\n",
    "from sklearn.metrics import roc_auc_score\n",
    "probs_lgb_train = opt_model_lgb.predict_proba(X_train)[:, 1]\n",
    "probs_lgb_test = opt_model_lgb.predict_proba(X_test)[:, 1]\n",
    "roc_auc_score(Y_train, probs_lgb_train)\n",
    "roc_auc_score(Y_test, probs_lgb_test)\n",
    "pred_lgb = opt_model_lgb.predict_proba(X_test)\n",
    "roc_auc_score(Y_test, probs_lgb_test)"
   ]
  },
  {
   "cell_type": "code",
   "execution_count": 48,
   "metadata": {
    "execution": {
     "iopub.execute_input": "2020-09-19T16:58:55.150127Z",
     "iopub.status.busy": "2020-09-19T16:58:55.149492Z",
     "iopub.status.idle": "2020-09-19T16:58:55.846197Z",
     "shell.execute_reply": "2020-09-19T16:58:55.845027Z"
    },
    "papermill": {
     "duration": 0.795562,
     "end_time": "2020-09-19T16:58:55.846320",
     "exception": false,
     "start_time": "2020-09-19T16:58:55.050758",
     "status": "completed"
    },
    "tags": []
   },
   "outputs": [],
   "source": [
    "lgb_pred= opt_model_lgb.predict_proba(df_test[col])[:, 1]\n",
    "submmission['Response']=lgb_pred\n",
    "submmission.to_csv(\"lgb_after_FE.csv\", index = False)"
   ]
  },
  {
   "cell_type": "markdown",
   "metadata": {
    "papermill": {
     "duration": 0.082571,
     "end_time": "2020-09-19T16:58:56.010768",
     "exception": false,
     "start_time": "2020-09-19T16:58:55.928197",
     "status": "completed"
    },
    "tags": []
   },
   "source": [
    "## Average of all three Models"
   ]
  },
  {
   "cell_type": "code",
   "execution_count": 49,
   "metadata": {
    "execution": {
     "iopub.execute_input": "2020-09-19T16:58:56.176043Z",
     "iopub.status.busy": "2020-09-19T16:58:56.175428Z",
     "iopub.status.idle": "2020-09-19T16:58:56.179658Z",
     "shell.execute_reply": "2020-09-19T16:58:56.179179Z"
    },
    "papermill": {
     "duration": 0.088054,
     "end_time": "2020-09-19T16:58:56.179777",
     "exception": false,
     "start_time": "2020-09-19T16:58:56.091723",
     "status": "completed"
    },
    "tags": []
   },
   "outputs": [],
   "source": [
    "average_pred = (cat_pred + lgb_pred)/2"
   ]
  },
  {
   "cell_type": "code",
   "execution_count": 50,
   "metadata": {
    "execution": {
     "iopub.execute_input": "2020-09-19T16:58:56.345864Z",
     "iopub.status.busy": "2020-09-19T16:58:56.344899Z",
     "iopub.status.idle": "2020-09-19T16:58:56.348742Z",
     "shell.execute_reply": "2020-09-19T16:58:56.348303Z"
    },
    "papermill": {
     "duration": 0.088547,
     "end_time": "2020-09-19T16:58:56.348860",
     "exception": false,
     "start_time": "2020-09-19T16:58:56.260313",
     "status": "completed"
    },
    "tags": []
   },
   "outputs": [
    {
     "data": {
      "text/plain": [
       "array([0.00078155, 0.28386579, 0.29581126, 0.00575326, 0.00049978])"
      ]
     },
     "execution_count": 50,
     "metadata": {},
     "output_type": "execute_result"
    }
   ],
   "source": [
    "average_pred[:5]"
   ]
  },
  {
   "cell_type": "code",
   "execution_count": 51,
   "metadata": {
    "execution": {
     "iopub.execute_input": "2020-09-19T16:58:56.513110Z",
     "iopub.status.busy": "2020-09-19T16:58:56.512535Z",
     "iopub.status.idle": "2020-09-19T16:58:56.858353Z",
     "shell.execute_reply": "2020-09-19T16:58:56.858875Z"
    },
    "papermill": {
     "duration": 0.429325,
     "end_time": "2020-09-19T16:58:56.859029",
     "exception": false,
     "start_time": "2020-09-19T16:58:56.429704",
     "status": "completed"
    },
    "tags": []
   },
   "outputs": [],
   "source": [
    "submmission['Response']=average_pred\n",
    "submmission.to_csv(\"Stacking_of_CAT_LGB_after_FE.csv\", index = False)"
   ]
  }
 ],
 "metadata": {
  "kernelspec": {
   "display_name": "Python 3",
   "language": "python",
   "name": "python3"
  },
  "language_info": {
   "codemirror_mode": {
    "name": "ipython",
    "version": 3
   },
   "file_extension": ".py",
   "mimetype": "text/x-python",
   "name": "python",
   "nbconvert_exporter": "python",
   "pygments_lexer": "ipython3",
   "version": "3.7.6"
  },
  "papermill": {
   "duration": 1503.958549,
   "end_time": "2020-09-19T16:58:57.051683",
   "environment_variables": {},
   "exception": null,
   "input_path": "__notebook__.ipynb",
   "output_path": "__notebook__.ipynb",
   "parameters": {},
   "start_time": "2020-09-19T16:33:53.093134",
   "version": "2.1.0"
  }
 },
 "nbformat": 4,
 "nbformat_minor": 4
}
